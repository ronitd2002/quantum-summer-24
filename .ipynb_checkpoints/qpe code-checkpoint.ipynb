{
 "cells": [
  {
   "cell_type": "code",
   "execution_count": 1,
   "id": "2eb4635d",
   "metadata": {},
   "outputs": [
    {
     "name": "stdout",
     "output_type": "stream",
     "text": [
      "NUMPY eig [-0.39328755+1.88514824e-17j -0.89      +1.40385517e-16j\n",
      " -1.11      +3.31089849e-17j -1.60671245-2.13162666e-16j]\n",
      "VQE eig -1.6067123521179754\n"
     ]
    }
   ],
   "source": [
    "import numpy as np\n",
    "from qiskit import QuantumCircuit\n",
    "from qiskit_algorithms.minimum_eigensolvers import VQE\n",
    "from qiskit_algorithms.optimizers import SLSQP\n",
    "from qiskit.circuit.library import PhaseEstimation, TwoLocal\n",
    "from qiskit.circuit.library import HamiltonianGate\n",
    "from qiskit.primitives import Estimator\n",
    "from qiskit.quantum_info import SparsePauliOp\n",
    "from qiskit_aer import AerSimulator\n",
    "\n",
    "H = SparsePauliOp.from_list([('II', -1), ('IZ', 0.3), ('XI', -0.3), ('ZY', -0.01), ('YX', 0.1)])\n",
    "Hmat = H.to_matrix()\n",
    "\n",
    "eig = np.linalg.eigvals(Hmat)\n",
    "print('NUMPY eig',eig)\n",
    "\n",
    "estimator = Estimator()\n",
    "optimizer = SLSQP()\n",
    "ansatz = TwoLocal(rotation_blocks=['ry', 'rz'], entanglement_blocks='cz')\n",
    "\n",
    "vqe = VQE(estimator, ansatz, optimizer)\n",
    "result = vqe.compute_minimum_eigenvalue(operator=H)\n",
    "print('VQE eig', result.eigenvalue)"
   ]
  },
  {
   "cell_type": "code",
   "execution_count": 2,
   "id": "c166c258",
   "metadata": {},
   "outputs": [
    {
     "data": {
      "text/plain": [
       "<qiskit.circuit.instructionset.InstructionSet at 0x79b93b8145b0>"
      ]
     },
     "execution_count": 2,
     "metadata": {},
     "output_type": "execute_result"
    }
   ],
   "source": [
    "\n",
    "n_qpe_qbits = 10\n",
    "\n",
    "U = HamiltonianGate(Hmat, 1, label='H')\n",
    "\n",
    "# Obtain a solution via QPE\n",
    "total_qbits = U.num_qubits + n_qpe_qbits\n",
    "measure_circ = QuantumCircuit(total_qbits, n_qpe_qbits)\n",
    "measure_circ.h([-1, -2])\n",
    "\n",
    "qpe = PhaseEstimation(n_qpe_qbits, U)\n",
    "Qpe=qpe.decompose().decompose().decompose().decompose().decompose().decompose().decompose()\n",
    "measure_circ = measure_circ.compose(Qpe)\n",
    "\n",
    "measure_circ.measure(range(n_qpe_qbits), range(n_qpe_qbits))\n",
    "#measure_circ.draw(\"mpl\")\n"
   ]
  },
  {
   "cell_type": "code",
   "execution_count": 3,
   "id": "a61fb314",
   "metadata": {},
   "outputs": [
    {
     "name": "stdout",
     "output_type": "stream",
     "text": [
      "{'1000100100': 3, '1010110100': 2, '0110000010': 5}\n"
     ]
    }
   ],
   "source": [
    "from qiskit_aer import Aer\n",
    "backend=Aer.get_backend('aer_simulator')\n",
    "job=backend.run(measure_circ,shots=10)\n",
    "result=job.result()\n",
    "counts = job.result().get_counts()\n",
    "print(counts)"
   ]
  },
  {
   "cell_type": "code",
   "execution_count": 4,
   "id": "417f8268",
   "metadata": {},
   "outputs": [
    {
     "name": "stdout",
     "output_type": "stream",
     "text": [
      "MAX count: ('0110000010', 5)\n",
      "Theta value: 0.255859375\n",
      "QPE-approximated U-eigenvalue: (-0.036807222941358866+0.9993223845883495j)\n",
      "QPE-approximated H-eigenvalue: -1.607611865704152\n"
     ]
    }
   ],
   "source": [
    "max_count = max(counts.items(), key=lambda x: x[1])\n",
    "print(f'MAX count: {max_count}')\n",
    "\n",
    "theta = int(max_count[0][::-1], 2) / 2**n_qpe_qbits\n",
    "print(f'Theta value: {theta}')\n",
    "print(f'QPE-approximated U-eigenvalue: {np.exp(2*1j*np.pi * theta)}')\n",
    "print(f'QPE-approximated H-eigenvalue: {-2 * np.pi * theta}')"
   ]
  },
  {
   "cell_type": "code",
   "execution_count": null,
   "id": "9c3220b8",
   "metadata": {},
   "outputs": [],
   "source": []
  }
 ],
 "metadata": {
  "kernelspec": {
   "display_name": "cirq",
   "language": "python",
   "name": "cirq"
  },
  "language_info": {
   "codemirror_mode": {
    "name": "ipython",
    "version": 3
   },
   "file_extension": ".py",
   "mimetype": "text/x-python",
   "name": "python",
   "nbconvert_exporter": "python",
   "pygments_lexer": "ipython3",
   "version": "3.12.3"
  }
 },
 "nbformat": 4,
 "nbformat_minor": 5
}
