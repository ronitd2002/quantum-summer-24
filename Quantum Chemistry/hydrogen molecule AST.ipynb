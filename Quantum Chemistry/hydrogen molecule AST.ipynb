{
 "cells": [
  {
   "cell_type": "code",
   "execution_count": 1,
   "id": "2eb4635d",
   "metadata": {},
   "outputs": [],
   "source": [
    "import numpy as np\n",
    "import os\n",
    "import sys\n",
    "import pyscf\n",
    "from qiskit import QuantumCircuit\n",
    "from qiskit_algorithms.minimum_eigensolvers import VQE\n",
    "from qiskit_algorithms.optimizers import SLSQP\n",
    "from qiskit.circuit.library import PhaseEstimation, TwoLocal\n",
    "from qiskit.circuit.library import HamiltonianGate\n",
    "from qiskit.primitives import Estimator\n",
    "from qiskit.quantum_info import SparsePauliOp\n",
    "from qiskit_aer import AerSimulator\n",
    "\n",
    "### import nature library\n",
    "from qiskit_nature.second_q.drivers import PySCFDriver\n",
    "from qiskit_nature.second_q.formats.molecule_info import MoleculeInfo\n",
    "from qiskit_nature.second_q.transformers import FreezeCoreTransformer\n",
    "from qiskit_nature.units import DistanceUnit\n",
    "from qiskit_nature.second_q.mappers import JordanWignerMapper, QubitMapper\n",
    "import time\n",
    "import inspect\n",
    "from pprint import pprint"
   ]
  },
  {
   "cell_type": "code",
   "execution_count": 2,
   "id": "f338b7ec",
   "metadata": {},
   "outputs": [
    {
     "name": "stdout",
     "output_type": "stream",
     "text": [
      "Fermionic Operator\n",
      "number spin orbitals=4, number terms=36\n",
      "  0.33785507740175813 * ( +_0 +_0 -_0 -_0 )\n",
      "+ 0.33229086512764805 * ( +_0 +_1 -_1 -_0 )\n",
      "+ 0.33785507740175813 * ( +_0 +_2 -_2 -_0 )\n",
      "+ 0.33229086512764805 * ( +_0 +_3 -_3 -_0 )\n",
      "+ 0.09046559989211567 * ( +_0 +_0 -_1 -_1 )\n",
      "+ 0.09046559989211567 * ( +_0 +_1 -_0 -_1 )\n",
      "+ 0.09046559989211567 * ( +_0 +_2 -_3 -_1 )\n",
      "+ 0.09046559989211567 * ( +_0 +_3 -_2 -_1 )\n",
      "+ 0.09046559989211567 * ( +_1 +_0 -_1 -_0 )\n",
      "+ 0.09046559989211567 * ( +_1 +_1 -_0 -_0 )\n",
      "+ 0.09046559989211567 * ( +_1 +_2 -_3 -_0 )\n",
      "+ 0.09046559989211567 * ( +_1 +_3 -_2 -_0 )\n",
      "+ 0.33229086512764805 * ( +_1 +_0 -_0 -_1 )\n",
      "+ 0.3492868613660088 * ( +_1 +_1 -_1 -_1 )\n",
      "+ 0.33229086512764805 * ( +_1 +_2 -_2 -_1 )\n",
      "+ 0.3492868613660088 * ( +_1 +_3 -_3 -_1 )\n",
      "+ 0.33785507740175813 * ( +_2 +_0 -_0 -_2 )\n",
      "+ 0.33229086512764805 * ( +_2 +_1 -_1 -_2 )\n",
      "+ 0.33785507740175813 * ( +_2 +_2 -_2 -_2 )\n",
      "+ 0.33229086512764805 * ( +_2 +_3 -_3 -_2 )\n",
      "+ 0.09046559989211567 * ( +_2 +_0 -_1 -_3 )\n",
      "+ 0.09046559989211567 * ( +_2 +_1 -_0 -_3 )\n",
      "+ 0.09046559989211567 * ( +_2 +_2 -_3 -_3 )\n",
      "+ 0.09046559989211567 * ( +_2 +_3 -_2 -_3 )\n",
      "+ 0.09046559989211567 * ( +_3 +_0 -_1 -_2 )\n",
      "+ 0.09046559989211567 * ( +_3 +_1 -_0 -_2 )\n",
      "+ 0.09046559989211567 * ( +_3 +_2 -_3 -_2 )\n",
      "+ 0.09046559989211567 * ( +_3 +_3 -_2 -_2 )\n",
      "+ 0.33229086512764805 * ( +_3 +_0 -_0 -_3 )\n",
      "+ 0.3492868613660088 * ( +_3 +_1 -_1 -_3 )\n",
      "+ 0.33229086512764805 * ( +_3 +_2 -_2 -_3 )\n",
      "+ 0.3492868613660088 * ( +_3 +_3 -_3 -_3 )\n",
      "+ -1.2563390730032498 * ( +_0 -_0 )\n",
      "+ -0.47189600728114145 * ( +_1 -_1 )\n",
      "+ -1.2563390730032498 * ( +_2 -_2 )\n",
      "+ -0.47189600728114145 * ( +_3 -_3 )\n"
     ]
    }
   ],
   "source": [
    "# Define the molecule\n",
    "driver = PySCFDriver(\n",
    "    atom=\"H 0 0 0; H 0 0 0.735\",\n",
    "    basis=\"sto3g\",\n",
    "    charge=0,\n",
    "    spin=0,\n",
    "    unit=DistanceUnit.ANGSTROM,\n",
    ")\n",
    "\n",
    "# Run the driver to get the problem\n",
    "problem = driver.run()\n",
    "\n",
    "# Define the log output (here using stdout)\n",
    "flog = sys.stdout\n",
    "\n",
    "### Apply freezecore transformer\n",
    "transformer = FreezeCoreTransformer()\n",
    "problem = transformer.transform(problem)\n",
    "\n",
    "hamiltonian = problem.hamiltonian.second_q_op()\n",
    "print(hamiltonian)"
   ]
  },
  {
   "cell_type": "code",
   "execution_count": 10,
   "id": "6b856914",
   "metadata": {},
   "outputs": [
    {
     "name": "stdout",
     "output_type": "stream",
     "text": [
      "(1, 1)\n",
      "2\n"
     ]
    }
   ],
   "source": [
    "print(problem.num_particles)\n",
    "print(problem.num_spatial_orbitals)\n",
    "#print(problem.active_orbitals)"
   ]
  },
  {
   "cell_type": "code",
   "execution_count": 12,
   "id": "df404019",
   "metadata": {},
   "outputs": [
    {
     "name": "stdout",
     "output_type": "stream",
     "text": [
      "(1, 1)\n",
      "2\n",
      "Polynomial Tensor\n",
      " \"+-\":\n",
      "array([[-1.25633907e+00,  0.00000000e+00],\n",
      "       [-8.32667268e-17, -4.71896007e-01]])\n",
      " \"++--\":\n",
      "array([[[[6.75710155e-01, 2.22044605e-16],\n",
      "         [2.22044605e-16, 6.64581730e-01]],\n",
      "\n",
      "        [[2.22044605e-16, 1.80931200e-01],\n",
      "         [1.80931200e-01, 1.11022302e-16]]],\n",
      "\n",
      "\n",
      "       [[[2.22044605e-16, 1.80931200e-01],\n",
      "         [1.80931200e-01, 1.11022302e-16]],\n",
      "\n",
      "        [[6.64581730e-01, 1.11022302e-16],\n",
      "         [1.11022302e-16, 6.98573723e-01]]]])\n"
     ]
    }
   ],
   "source": [
    "from qiskit_nature.second_q.transformers import ActiveSpaceTransformer\n",
    "\n",
    "as_transformer = ActiveSpaceTransformer(2,2) # syntax = AST(num_electrons,num_orbitals)\n",
    "as_problem = as_transformer.transform(problem)\n",
    "\n",
    "print(as_problem.num_particles)\n",
    "print(as_problem.num_spatial_orbitals)\n",
    "print(as_problem.hamiltonian.electronic_integrals.alpha)"
   ]
  },
  {
   "cell_type": "code",
   "execution_count": 13,
   "id": "fce2352a",
   "metadata": {},
   "outputs": [],
   "source": [
    "hamiltonian = as_problem.hamiltonian.second_q_op()"
   ]
  },
  {
   "cell_type": "code",
   "execution_count": 14,
   "id": "f8a1abe1",
   "metadata": {},
   "outputs": [
    {
     "name": "stdout",
     "output_type": "stream",
     "text": [
      "-0.81054798 * IIII\n",
      "+0.17218393 * IIIZ\n",
      "-0.22575349 * IIZI\n",
      "+0.12091263 * IIZZ\n",
      "+0.17218393 * IZII\n",
      "+0.16892754 * IZIZ\n",
      "+0.16614543 * IZZI\n",
      "+0.04523280 * XXXX\n",
      "+0.04523280 * XXYY\n",
      "+0.04523280 * YYXX\n",
      "+0.04523280 * YYYY\n",
      "-0.22575349 * ZIII\n",
      "+0.16614543 * ZIIZ\n",
      "+0.17464343 * ZIZI\n",
      "+0.12091263 * ZZII\n"
     ]
    }
   ],
   "source": [
    "#convert second quantized operator into pauli strings using any chemistry encoding of choice. we use jw.\n",
    "mapper = JordanWignerMapper()\n",
    "\n",
    "pauli_hamiltonian = mapper.map(hamiltonian)\n",
    "\n",
    "for pauli, coeff in sorted(pauli_hamiltonian.label_iter()):\n",
    "    print(f\"{coeff.real:+.8f} * {pauli}\")"
   ]
  },
  {
   "cell_type": "code",
   "execution_count": 15,
   "id": "9d7a0ab3",
   "metadata": {},
   "outputs": [
    {
     "data": {
      "text/plain": [
       "SparsePauliOp(['IIII', 'IIIZ', 'IIZI', 'IIZZ', 'IZII', 'IZIZ', 'ZIII', 'ZIIZ', 'YYYY', 'XXYY', 'YYXX', 'XXXX', 'IZZI', 'ZIZI', 'ZZII'],\n",
       "              coeffs=[-0.81054798+0.j,  0.17218393+0.j, -0.22575349+0.j,  0.12091263+0.j,\n",
       "  0.17218393+0.j,  0.16892754+0.j, -0.22575349+0.j,  0.16614543+0.j,\n",
       "  0.0452328 +0.j,  0.0452328 +0.j,  0.0452328 +0.j,  0.0452328 +0.j,\n",
       "  0.16614543+0.j,  0.17464343+0.j,  0.12091263+0.j])"
      ]
     },
     "execution_count": 15,
     "metadata": {},
     "output_type": "execute_result"
    }
   ],
   "source": [
    "pauli_hamiltonian"
   ]
  },
  {
   "cell_type": "code",
   "execution_count": 16,
   "id": "ffb1b859",
   "metadata": {},
   "outputs": [
    {
     "name": "stdout",
     "output_type": "stream",
     "text": [
      "NUMPY eig (-1.8572750302023788+0j)\n",
      "VQE eig -1.8572602858554217\n"
     ]
    }
   ],
   "source": [
    "eig = np.linalg.eigvals(pauli_hamiltonian)\n",
    "print('NUMPY eig',np.min(eig))\n",
    "\n",
    "estimator = Estimator()\n",
    "optimizer = SLSQP()\n",
    "ansatz = TwoLocal(rotation_blocks=['ry', 'rz'], entanglement_blocks='cz')\n",
    "\n",
    "vqe = VQE(estimator, ansatz, optimizer)\n",
    "result = vqe.compute_minimum_eigenvalue(operator=pauli_hamiltonian)\n",
    "print('VQE eig', result.eigenvalue)"
   ]
  },
  {
   "cell_type": "code",
   "execution_count": 17,
   "id": "c166c258",
   "metadata": {},
   "outputs": [
    {
     "data": {
      "text/plain": [
       "<qiskit.circuit.instructionset.InstructionSet at 0x7faa75c24af0>"
      ]
     },
     "execution_count": 17,
     "metadata": {},
     "output_type": "execute_result"
    }
   ],
   "source": [
    "n_qpe_qbits = 10\n",
    "\n",
    "U = HamiltonianGate(pauli_hamiltonian, 1, label='H')\n",
    "\n",
    "# Obtain a solution via QPE\n",
    "total_qbits = U.num_qubits + n_qpe_qbits\n",
    "measure_circ = QuantumCircuit(total_qbits, n_qpe_qbits)\n",
    "measure_circ.h([-1, -2])\n",
    "\n",
    "qpe = PhaseEstimation(n_qpe_qbits, U)\n",
    "Qpe=qpe.decompose().decompose().decompose().decompose().decompose().decompose().decompose()\n",
    "measure_circ = measure_circ.compose(Qpe)\n",
    "\n",
    "measure_circ.measure(range(n_qpe_qbits), range(n_qpe_qbits))\n",
    "#measure_circ.draw(\"mpl\")"
   ]
  },
  {
   "cell_type": "code",
   "execution_count": 18,
   "id": "a61fb314",
   "metadata": {},
   "outputs": [
    {
     "name": "stdout",
     "output_type": "stream",
     "text": [
      "{'1011001100': 2, '1011001000': 2, '1101001100': 2, '0111001100': 1, '0000000000': 3}\n"
     ]
    }
   ],
   "source": [
    "from qiskit_aer import Aer\n",
    "backend=Aer.get_backend('aer_simulator')\n",
    "job=backend.run(measure_circ,shots=10)\n",
    "result=job.result()\n",
    "counts = job.result().get_counts()\n",
    "print(counts)"
   ]
  },
  {
   "cell_type": "code",
   "execution_count": 19,
   "id": "417f8268",
   "metadata": {},
   "outputs": [
    {
     "name": "stdout",
     "output_type": "stream",
     "text": [
      "MAX count: ('0000000000', 3)\n",
      "Theta value: 0.0\n",
      "QPE-approximated U-eigenvalue: (1+0j)\n",
      "QPE-approximated H-eigenvalue: -0.0\n"
     ]
    }
   ],
   "source": [
    "max_count = max(counts.items(), key=lambda x: x[1])\n",
    "print(f'MAX count: {max_count}')\n",
    "\n",
    "theta = int(max_count[0][::-1], 2) / 2**n_qpe_qbits\n",
    "print(f'Theta value: {theta}')\n",
    "print(f'QPE-approximated U-eigenvalue: {np.exp(2*1j*np.pi * theta)}')\n",
    "print(f'QPE-approximated H-eigenvalue: {-2 * np.pi * theta}')"
   ]
  },
  {
   "cell_type": "code",
   "execution_count": null,
   "id": "9c3220b8",
   "metadata": {},
   "outputs": [],
   "source": []
  }
 ],
 "metadata": {
  "kernelspec": {
   "display_name": "cirq",
   "language": "python",
   "name": "cirq"
  },
  "language_info": {
   "codemirror_mode": {
    "name": "ipython",
    "version": 3
   },
   "file_extension": ".py",
   "mimetype": "text/x-python",
   "name": "python",
   "nbconvert_exporter": "python",
   "pygments_lexer": "ipython3",
   "version": "3.12.3"
  }
 },
 "nbformat": 4,
 "nbformat_minor": 5
}
