{
 "cells": [
  {
   "cell_type": "markdown",
   "id": "b745d18a",
   "metadata": {},
   "source": [
    "# N2 molecule eigenvalue estimation using vqe and qpe and subsequently ITPE"
   ]
  },
  {
   "cell_type": "code",
   "execution_count": 1,
   "id": "2eb4635d",
   "metadata": {},
   "outputs": [],
   "source": [
    "import numpy as np\n",
    "import os\n",
    "import sys\n",
    "import pyscf\n",
    "from qiskit import QuantumCircuit\n",
    "from qiskit_algorithms.minimum_eigensolvers import VQE\n",
    "from qiskit_algorithms.optimizers import SLSQP\n",
    "from qiskit.circuit.library import PhaseEstimation, TwoLocal\n",
    "from qiskit.circuit.library import HamiltonianGate\n",
    "from qiskit.primitives import Estimator\n",
    "from qiskit.quantum_info import SparsePauliOp\n",
    "from qiskit_aer import AerSimulator\n",
    "\n",
    "### import nature library\n",
    "from qiskit_nature.second_q.drivers import PySCFDriver\n",
    "from qiskit_nature.second_q.formats.molecule_info import MoleculeInfo\n",
    "from qiskit_nature.second_q.transformers import FreezeCoreTransformer\n",
    "from qiskit_nature.units import DistanceUnit\n",
    "from qiskit_nature.second_q.mappers import JordanWignerMapper, QubitMapper\n",
    "import time\n",
    "import inspect\n",
    "from pprint import pprint"
   ]
  },
  {
   "cell_type": "code",
   "execution_count": 2,
   "id": "f338b7ec",
   "metadata": {
    "scrolled": true
   },
   "outputs": [
    {
     "name": "stdout",
     "output_type": "stream",
     "text": [
      "Fermionic Operator\n",
      "number spin orbitals=16, number terms=3288\n",
      "  0.37410225454704776 * ( +_0 +_0 -_0 -_0 )\n",
      "+ -0.05443765442389159 * ( +_0 +_0 -_4 -_0 )\n",
      "+ 0.2560942010813371 * ( +_0 +_1 -_1 -_0 )\n",
      "+ 0.03671071200315432 * ( +_0 +_1 -_7 -_0 )\n",
      "+ 0.30888873007502426 * ( +_0 +_2 -_2 -_0 )\n",
      "+ 0.30888873007502415 * ( +_0 +_3 -_3 -_0 )\n",
      "+ -0.05443765442389159 * ( +_0 +_4 -_0 -_0 )\n",
      "+ 0.2713425045755195 * ( +_0 +_4 -_4 -_0 )\n",
      "...\n"
     ]
    }
   ],
   "source": [
    "# Define the molecule\n",
    "driver = PySCFDriver(\n",
    "    atom=\"N 0 0 0; N 0 0 1.0975\",\n",
    "    basis=\"sto3g\",\n",
    "    charge=0,\n",
    "    spin=0,\n",
    "    unit=DistanceUnit.ANGSTROM,\n",
    ")\n",
    "\n",
    "# Run the driver to get the problem\n",
    "problem = driver.run()\n",
    "\n",
    "# Define the log output (here using stdout)\n",
    "flog = sys.stdout\n",
    "\n",
    "### Apply freezecore transformer\n",
    "transformer = FreezeCoreTransformer()\n",
    "problem = transformer.transform(problem)\n",
    "\n",
    "hamiltonian = problem.hamiltonian.second_q_op()\n",
    "#print(hamiltonian)\n",
    "print(\"\\n\".join(str(hamiltonian).splitlines()[:10] + [\"...\"]))"
   ]
  },
  {
   "cell_type": "code",
   "execution_count": 3,
   "id": "6b856914",
   "metadata": {},
   "outputs": [
    {
     "name": "stdout",
     "output_type": "stream",
     "text": [
      "(5, 5)\n",
      "8\n"
     ]
    }
   ],
   "source": [
    "print(problem.num_particles)\n",
    "print(problem.num_spatial_orbitals)\n",
    "#print(problem.active_orbitals)"
   ]
  },
  {
   "cell_type": "code",
   "execution_count": 4,
   "id": "366fb902",
   "metadata": {},
   "outputs": [
    {
     "name": "stdout",
     "output_type": "stream",
     "text": [
      "-25.66868383 * IIIIIIIIIIIIIIII\n",
      "+1.06406699 * IIIIIIIIIIIIIIIZ\n",
      "+0.68436479 * IIIIIIIIIIIIIIZI\n",
      "+0.11401214 * IIIIIIIIIIIIIIZZ\n",
      "+0.66055804 * IIIIIIIIIIIIIZII\n",
      "+0.12815933 * IIIIIIIIIIIIIZIZ\n",
      "+0.11484539 * IIIIIIIIIIIIIZZI\n",
      "+0.66055804 * IIIIIIIIIIIIZIII\n",
      "+0.12815933 * IIIIIIIIIIIIZIIZ\n",
      "...\n"
     ]
    }
   ],
   "source": [
    "mapper = JordanWignerMapper()\n",
    "\n",
    "pauli_hamiltonian = mapper.map(hamiltonian)\n",
    "c = 0\n",
    "for pauli, coeff in sorted(pauli_hamiltonian.label_iter()):\n",
    "    c+= 1\n",
    "    if c <10:\n",
    "        print(f\"{coeff.real:+.8f} * {pauli}\")\n",
    "    else:\n",
    "        print(\"...\")\n",
    "        break"
   ]
  },
  {
   "cell_type": "code",
   "execution_count": 5,
   "id": "df404019",
   "metadata": {},
   "outputs": [
    {
     "name": "stdout",
     "output_type": "stream",
     "text": [
      "(1, 1)\n",
      "2\n"
     ]
    }
   ],
   "source": [
    "from qiskit_nature.second_q.transformers import ActiveSpaceTransformer\n",
    "\n",
    "as_transformer = ActiveSpaceTransformer(2,2) # syntax = AST(num_electrons,num_orbitals)\n",
    "as_problem = as_transformer.transform(problem)\n",
    "\n",
    "print(as_problem.num_particles)\n",
    "print(as_problem.num_spatial_orbitals)"
   ]
  },
  {
   "cell_type": "code",
   "execution_count": 6,
   "id": "80c2f905",
   "metadata": {},
   "outputs": [
    {
     "name": "stdout",
     "output_type": "stream",
     "text": [
      "Polynomial Tensor\n",
      " \"+-\":\n",
      "array([[-1.12465081e+00, -4.81558129e-18],\n",
      "       [-4.81558129e-18, -7.62075705e-01]])\n",
      " \"++--\":\n",
      "array([[[[ 5.85155853e-01, -1.02129007e-19],\n",
      "         [-1.02129007e-19,  5.40817488e-01]],\n",
      "\n",
      "        [[-1.02129007e-19,  3.82404172e-02],\n",
      "         [ 3.82404172e-02, -5.49522243e-19]]],\n",
      "\n",
      "\n",
      "       [[[-1.02129007e-19,  3.82404172e-02],\n",
      "         [ 3.82404172e-02, -5.49522243e-19]],\n",
      "\n",
      "        [[ 5.40817488e-01, -5.49522243e-19],\n",
      "         [-5.49522243e-19,  6.05101909e-01]]]])\n"
     ]
    }
   ],
   "source": [
    "print(as_problem.hamiltonian.electronic_integrals.alpha)"
   ]
  },
  {
   "cell_type": "code",
   "execution_count": 7,
   "id": "fce2352a",
   "metadata": {},
   "outputs": [],
   "source": [
    "hamiltonian = as_problem.hamiltonian.second_q_op()"
   ]
  },
  {
   "cell_type": "markdown",
   "id": "f8b3d4ce",
   "metadata": {},
   "source": [
    "#### Hilbert space reduction for pauli hamiltonian using AST"
   ]
  },
  {
   "cell_type": "code",
   "execution_count": 8,
   "id": "f8a1abe1",
   "metadata": {
    "scrolled": true
   },
   "outputs": [
    {
     "name": "stdout",
     "output_type": "stream",
     "text": [
      "-1.06746480 * IIII\n",
      "+0.15518780 * IIIZ\n",
      "-0.03108626 * IIZI\n",
      "+0.12564427 * IIZZ\n",
      "+0.15518780 * IZII\n",
      "+0.14628896 * IZIZ\n",
      "+0.13520437 * IZZI\n",
      "+0.00956010 * XXXX\n",
      "+0.00956010 * XXYY\n",
      "+0.00956010 * YYXX\n",
      "+0.00956010 * YYYY\n",
      "-0.03108626 * ZIII\n",
      "+0.13520437 * ZIIZ\n",
      "+0.15127548 * ZIZI\n",
      "+0.12564427 * ZZII\n"
     ]
    }
   ],
   "source": [
    "#convert second quantized operator into pauli strings using any chemistry encoding of choice. we use jw.\n",
    "mapper = JordanWignerMapper()\n",
    "\n",
    "pauli_hamiltonian = mapper.map(hamiltonian)\n",
    "\n",
    "for pauli, coeff in sorted(pauli_hamiltonian.label_iter()):\n",
    "    print(f\"{coeff.real:+.8f} * {pauli}\")"
   ]
  },
  {
   "cell_type": "code",
   "execution_count": 9,
   "id": "9d7a0ab3",
   "metadata": {},
   "outputs": [
    {
     "data": {
      "text/plain": [
       "SparsePauliOp(['IIII', 'IIIZ', 'IIZI', 'IIZZ', 'IZII', 'IZIZ', 'ZIII', 'ZIIZ', 'YYYY', 'XXYY', 'YYXX', 'XXXX', 'IZZI', 'ZIZI', 'ZZII'],\n",
       "              coeffs=[-1.0674648 +0.j,  0.1551878 +0.j, -0.03108626+0.j,  0.12564427+0.j,\n",
       "  0.1551878 +0.j,  0.14628896+0.j, -0.03108626+0.j,  0.13520437+0.j,\n",
       "  0.0095601 +0.j,  0.0095601 +0.j,  0.0095601 +0.j,  0.0095601 +0.j,\n",
       "  0.13520437+0.j,  0.15127548+0.j,  0.12564427+0.j])"
      ]
     },
     "execution_count": 9,
     "metadata": {},
     "output_type": "execute_result"
    }
   ],
   "source": [
    "pauli_hamiltonian"
   ]
  },
  {
   "cell_type": "code",
   "execution_count": 10,
   "id": "ffb1b859",
   "metadata": {},
   "outputs": [
    {
     "name": "stdout",
     "output_type": "stream",
     "text": [
      "NUMPY eig (-1.6661032295567388+0j)\n",
      "VQE eig -1.6641431252441707\n"
     ]
    }
   ],
   "source": [
    "eig = np.linalg.eigvals(pauli_hamiltonian)\n",
    "print('NUMPY eig',np.min(eig))\n",
    "\n",
    "estimator = Estimator()\n",
    "optimizer = SLSQP()\n",
    "ansatz = TwoLocal(rotation_blocks=['ry', 'rz'], entanglement_blocks='cz')\n",
    "\n",
    "vqe = VQE(estimator, ansatz, optimizer)\n",
    "result = vqe.compute_minimum_eigenvalue(operator=pauli_hamiltonian)\n",
    "print('VQE eig', result.eigenvalue)"
   ]
  },
  {
   "cell_type": "code",
   "execution_count": 16,
   "id": "c166c258",
   "metadata": {},
   "outputs": [],
   "source": [
    "n_qpe_qbits = 10\n",
    "\n",
    "U = HamiltonianGate(pauli_hamiltonian, 1, label='H')\n",
    "\n",
    "# Obtain a solution via QPE\n",
    "total_qbits = U.num_qubits + n_qpe_qbits\n",
    "measure_circ = QuantumCircuit(total_qbits, n_qpe_qbits)\n",
    "measure_circ.h([-1, -2])\n",
    "\n",
    "qpe = PhaseEstimation(n_qpe_qbits, U)\n",
    "Qpe=qpe.decompose().decompose().decompose().decompose().decompose().decompose().decompose()"
   ]
  },
  {
   "cell_type": "code",
   "execution_count": 17,
   "id": "a5e41c9a",
   "metadata": {},
   "outputs": [
    {
     "data": {
      "text/plain": [
       "<qiskit.circuit.instructionset.InstructionSet at 0x79fe3585ee00>"
      ]
     },
     "execution_count": 17,
     "metadata": {},
     "output_type": "execute_result"
    }
   ],
   "source": [
    "measure_circ = measure_circ.compose(Qpe)\n",
    "measure_circ.measure(range(n_qpe_qbits), range(n_qpe_qbits))"
   ]
  },
  {
   "cell_type": "code",
   "execution_count": 19,
   "id": "a61fb314",
   "metadata": {},
   "outputs": [
    {
     "name": "stdout",
     "output_type": "stream",
     "text": [
      "{'0001110100': 1, '1000011100': 1, '0100011100': 1, '1001111000': 1, '0000000000': 3, '1110110100': 3}\n"
     ]
    }
   ],
   "source": [
    "from qiskit_aer import Aer\n",
    "backend=Aer.get_backend('aer_simulator')\n",
    "job=backend.run(measure_circ,shots=10)\n",
    "result=job.result()\n",
    "counts = job.result().get_counts()\n",
    "print(counts)"
   ]
  },
  {
   "cell_type": "code",
   "execution_count": 20,
   "id": "417f8268",
   "metadata": {},
   "outputs": [
    {
     "name": "stdout",
     "output_type": "stream",
     "text": [
      "MAX count: ('0000000000', 3)\n",
      "Theta value: 0.0\n",
      "QPE-approximated U-eigenvalue: (1+0j)\n",
      "QPE-approximated H-eigenvalue: -0.0\n"
     ]
    }
   ],
   "source": [
    "max_count = max(counts.items(), key=lambda x: x[1])\n",
    "print(f'MAX count: {max_count}')\n",
    "\n",
    "theta = int(max_count[0][::-1], 2) / 2**n_qpe_qbits\n",
    "print(f'Theta value: {theta}')\n",
    "print(f'QPE-approximated U-eigenvalue: {np.exp(2*1j*np.pi * theta)}')\n",
    "print(f'QPE-approximated H-eigenvalue: {-2 * np.pi * theta}')"
   ]
  },
  {
   "cell_type": "markdown",
   "id": "a8a56881",
   "metadata": {},
   "source": [
    "## For different orientation of N2 molecule"
   ]
  },
  {
   "cell_type": "code",
   "execution_count": 21,
   "id": "9c3220b8",
   "metadata": {},
   "outputs": [
    {
     "name": "stdout",
     "output_type": "stream",
     "text": [
      "Fermionic Operator\n",
      "number spin orbitals=16, number terms=3288\n",
      "  0.24020631525796154 * ( +_0 +_0 -_0 -_0 )\n",
      "+ -0.02069300789525726 * ( +_0 +_0 -_2 -_0 )\n",
      "+ 0.23165156172723111 * ( +_0 +_1 -_1 -_0 )\n",
      "+ 0.0216136164456646 * ( +_0 +_1 -_7 -_0 )\n",
      "+ -0.02069300789525726 * ( +_0 +_2 -_0 -_0 )\n",
      "+ 0.23656395904636562 * ( +_0 +_2 -_2 -_0 )\n",
      "+ 0.23560093073382068 * ( +_0 +_3 -_3 -_0 )\n",
      "+ 0.2356009307338204 * ( +_0 +_4 -_4 -_0 )\n",
      "...\n"
     ]
    }
   ],
   "source": [
    "driver = PySCFDriver(\n",
    "    atom=\"N -1.05068773 0 0; N 1.05068773 0 0\",\n",
    "    basis=\"sto3g\",\n",
    "    charge=0,\n",
    "    spin=0,\n",
    "    unit=DistanceUnit.ANGSTROM,\n",
    ")\n",
    "\n",
    "\n",
    "# Run the driver to get the problem\n",
    "problem = driver.run()\n",
    "\n",
    "# Define the log output (here using stdout)\n",
    "flog = sys.stdout\n",
    "\n",
    "### Apply freezecore transformer\n",
    "transformer = FreezeCoreTransformer()\n",
    "problem = transformer.transform(problem)\n",
    "\n",
    "hamiltonian = problem.hamiltonian.second_q_op()\n",
    "#print(hamiltonian)\n",
    "print(\"\\n\".join(str(hamiltonian).splitlines()[:10] + [\"...\"]))"
   ]
  },
  {
   "cell_type": "code",
   "execution_count": 22,
   "id": "f8b5ce6a",
   "metadata": {},
   "outputs": [
    {
     "name": "stdout",
     "output_type": "stream",
     "text": [
      "(5, 5)\n",
      "8\n"
     ]
    }
   ],
   "source": [
    "print(problem.num_particles)\n",
    "print(problem.num_spatial_orbitals)\n",
    "#print(problem.active_orbitals)"
   ]
  },
  {
   "cell_type": "code",
   "execution_count": 23,
   "id": "3bcf457e",
   "metadata": {},
   "outputs": [
    {
     "name": "stdout",
     "output_type": "stream",
     "text": [
      "(1, 1)\n",
      "2\n"
     ]
    }
   ],
   "source": [
    "from qiskit_nature.second_q.transformers import ActiveSpaceTransformer\n",
    "\n",
    "as_transformer = ActiveSpaceTransformer(2,2) # syntax = AST(num_electrons,num_orbitals)\n",
    "as_problem = as_transformer.transform(problem)\n",
    "print(as_problem.num_particles)\n",
    "print(as_problem.num_spatial_orbitals)"
   ]
  },
  {
   "cell_type": "code",
   "execution_count": null,
   "id": "d1836c19",
   "metadata": {},
   "outputs": [],
   "source": [
    "print(as_problem.hamiltonian.electronic_integrals.alpha)"
   ]
  },
  {
   "cell_type": "code",
   "execution_count": 24,
   "id": "85fec6c3",
   "metadata": {},
   "outputs": [
    {
     "name": "stdout",
     "output_type": "stream",
     "text": [
      "-0.85143839 * IIII\n",
      "+0.01092092 * IIIZ\n",
      "+0.06458547 * IIZI\n",
      "+0.10963239 * IIZZ\n",
      "+0.01092092 * IZII\n",
      "+0.12438850 * IZIZ\n",
      "+0.11509363 * IZZI\n",
      "+0.00546124 * XXXX\n",
      "+0.00546124 * XXYY\n",
      "+0.00546124 * YYXX\n",
      "+0.00546124 * YYYY\n",
      "+0.06458547 * ZIII\n",
      "+0.11509363 * ZIIZ\n",
      "+0.12658507 * ZIZI\n",
      "+0.10963239 * ZZII\n"
     ]
    }
   ],
   "source": [
    "hamiltonian = as_problem.hamiltonian.second_q_op()\n",
    "\n",
    "#convert second quantized operator into pauli strings using any chemistry encoding of choice. we use jw.\n",
    "mapper = JordanWignerMapper()\n",
    "\n",
    "pauli_hamiltonian = mapper.map(hamiltonian)\n",
    "\n",
    "for pauli, coeff in sorted(pauli_hamiltonian.label_iter()):\n",
    "    print(f\"{coeff.real:+.8f} * {pauli}\")"
   ]
  },
  {
   "cell_type": "code",
   "execution_count": 25,
   "id": "70118faf",
   "metadata": {},
   "outputs": [
    {
     "name": "stdout",
     "output_type": "stream",
     "text": [
      "SparsePauliOp(['IIII', 'IIIZ', 'IIZI', 'IIZZ', 'IZII', 'IZIZ', 'ZIII', 'ZIIZ', 'YYYY', 'XXYY', 'YYXX', 'XXXX', 'IZZI', 'ZIZI', 'ZZII'],\n",
      "              coeffs=[-0.85143839+0.j,  0.01092092+0.j,  0.06458547+0.j,  0.10963239+0.j,\n",
      "  0.01092092+0.j,  0.1243885 +0.j,  0.06458547+0.j,  0.11509363+0.j,\n",
      "  0.00546124+0.j,  0.00546124+0.j,  0.00546124+0.j,  0.00546124+0.j,\n",
      "  0.11509363+0.j,  0.12658507+0.j,  0.10963239+0.j])\n"
     ]
    }
   ],
   "source": [
    "print(pauli_hamiltonian)"
   ]
  },
  {
   "cell_type": "code",
   "execution_count": 26,
   "id": "ce473a89",
   "metadata": {},
   "outputs": [
    {
     "name": "stdout",
     "output_type": "stream",
     "text": [
      "NUMPY eig (-1.1594464665219517+0j)\n",
      "VQE eig -1.1594107956508717\n"
     ]
    }
   ],
   "source": [
    "eig = np.linalg.eigvals(pauli_hamiltonian)\n",
    "print('NUMPY eig',np.min(eig))\n",
    "\n",
    "estimator = Estimator()\n",
    "optimizer = SLSQP()\n",
    "ansatz = TwoLocal(rotation_blocks=['ry', 'rz'], entanglement_blocks='cz')\n",
    "\n",
    "vqe = VQE(estimator, ansatz, optimizer)\n",
    "result = vqe.compute_minimum_eigenvalue(operator=pauli_hamiltonian)\n",
    "print('VQE eig', result.eigenvalue)"
   ]
  },
  {
   "cell_type": "code",
   "execution_count": 28,
   "id": "c0170e0b",
   "metadata": {},
   "outputs": [],
   "source": [
    "n_qpe_qbits = 10\n",
    "\n",
    "U = HamiltonianGate(pauli_hamiltonian, 1, label='H')\n",
    "\n",
    "# Obtain a solution via QPE\n",
    "total_qbits = U.num_qubits + n_qpe_qbits\n",
    "measure_circ = QuantumCircuit(total_qbits, n_qpe_qbits)\n",
    "measure_circ.h([-1, -2])\n",
    "\n",
    "qpe = PhaseEstimation(n_qpe_qbits, U)\n",
    "Qpe=qpe.decompose().decompose().decompose().decompose().decompose().decompose().decompose()"
   ]
  },
  {
   "cell_type": "code",
   "execution_count": 29,
   "id": "bb68c370",
   "metadata": {},
   "outputs": [
    {
     "data": {
      "text/plain": [
       "<qiskit.circuit.instructionset.InstructionSet at 0x79fe05377fd0>"
      ]
     },
     "execution_count": 29,
     "metadata": {},
     "output_type": "execute_result"
    }
   ],
   "source": [
    "measure_circ = measure_circ.compose(Qpe)\n",
    "measure_circ.measure(range(n_qpe_qbits), range(n_qpe_qbits))\n",
    "\n",
    "#measure_circ.draw(\"mpl\")"
   ]
  },
  {
   "cell_type": "code",
   "execution_count": 30,
   "id": "0a170280",
   "metadata": {},
   "outputs": [
    {
     "name": "stdout",
     "output_type": "stream",
     "text": [
      "{'1110000100': 1, '0110110100': 1, '1010111000': 1, '0010110100': 1, '1010110100': 1, '0110111000': 2, '0010000100': 1, '0000000000': 2}\n"
     ]
    }
   ],
   "source": [
    "from qiskit_aer import Aer\n",
    "backend=Aer.get_backend('aer_simulator')\n",
    "job=backend.run(measure_circ,shots=10)\n",
    "result=job.result()\n",
    "counts = job.result().get_counts()\n",
    "print(counts)"
   ]
  },
  {
   "cell_type": "code",
   "execution_count": 31,
   "id": "d1d326f5",
   "metadata": {},
   "outputs": [
    {
     "name": "stdout",
     "output_type": "stream",
     "text": [
      "MAX count: ('0110111000', 2)\n",
      "Theta value: 0.115234375\n",
      "QPE-approximated U-eigenvalue: (0.7491363945234594+0.6624157775901718j)\n",
      "QPE-approximated H-eigenvalue: -0.7240389318820226\n"
     ]
    }
   ],
   "source": [
    "max_count = max(counts.items(), key=lambda x: x[1])\n",
    "print(f'MAX count: {max_count}')\n",
    "\n",
    "theta = int(max_count[0][::-1], 2) / 2**n_qpe_qbits\n",
    "print(f'Theta value: {theta}')\n",
    "print(f'QPE-approximated U-eigenvalue: {np.exp(2*1j*np.pi * theta)}')\n",
    "print(f'QPE-approximated H-eigenvalue: {-2 * np.pi * theta}')"
   ]
  },
  {
   "cell_type": "code",
   "execution_count": 32,
   "id": "0ae03b87",
   "metadata": {},
   "outputs": [],
   "source": [
    "from qiskit_algorithms.phase_estimators.phase_estimator import PhaseEstimator"
   ]
  },
  {
   "cell_type": "code",
   "execution_count": 33,
   "id": "61686b2f",
   "metadata": {},
   "outputs": [
    {
     "data": {
      "text/plain": [
       "array([-1.15944647e+00+0.j, -1.11333445e+00+0.j, -1.11333445e+00+0.j,\n",
       "       -1.11333445e+00+0.j, -1.06964452e+00+0.j, -9.78412751e-01+0.j,\n",
       "       -9.78412751e-01+0.j, -9.40387240e-01+0.j, -8.75476806e-01+0.j,\n",
       "       -8.75476806e-01+0.j, -8.31793122e-01+0.j, -8.31793122e-01+0.j,\n",
       "       -7.20070885e-01+0.j, -7.20070885e-01+0.j, -3.02025550e-01+0.j,\n",
       "        1.94289029e-16+0.j])"
      ]
     },
     "execution_count": 33,
     "metadata": {},
     "output_type": "execute_result"
    }
   ],
   "source": [
    "eig = np.sort(eig)\n",
    "eig"
   ]
  },
  {
   "cell_type": "markdown",
   "id": "e3002cf4",
   "metadata": {},
   "source": [
    "### Here is the basic layout of the QPE circuit"
   ]
  },
  {
   "cell_type": "markdown",
   "id": "df404615",
   "metadata": {},
   "source": [
    "![quantum phase estimation circuit](qpe_circuit.png)\n",
    "! <p style=\"text-align: center;\">QPE circuit</p>"
   ]
  },
  {
   "cell_type": "markdown",
   "id": "e05cee4e",
   "metadata": {},
   "source": [
    "### **refer to this [link to notebook for iqpe](https://github.com/qiskit-community/ibm-quantum-challenge-spring-2023/blob/main/content/lab_3/lab3.ipynb)**"
   ]
  },
  {
   "cell_type": "markdown",
   "id": "d7ca8d6c",
   "metadata": {},
   "source": [
    "okay, using AST we have an active space of 4."
   ]
  },
  {
   "cell_type": "code",
   "execution_count": 34,
   "id": "f55c792c",
   "metadata": {},
   "outputs": [
    {
     "data": {
      "text/plain": [
       "SparsePauliOp(['IIII', 'IIIZ', 'IIZI', 'IIZZ', 'IZII', 'IZIZ', 'ZIII', 'ZIIZ', 'YYYY', 'XXYY', 'YYXX', 'XXXX', 'IZZI', 'ZIZI', 'ZZII'],\n",
       "              coeffs=[-0.85143839+0.j,  0.01092092+0.j,  0.06458547+0.j,  0.10963239+0.j,\n",
       "  0.01092092+0.j,  0.1243885 +0.j,  0.06458547+0.j,  0.11509363+0.j,\n",
       "  0.00546124+0.j,  0.00546124+0.j,  0.00546124+0.j,  0.00546124+0.j,\n",
       "  0.11509363+0.j,  0.12658507+0.j,  0.10963239+0.j])"
      ]
     },
     "execution_count": 34,
     "metadata": {},
     "output_type": "execute_result"
    }
   ],
   "source": [
    "pauli_hamiltonian"
   ]
  },
  {
   "cell_type": "markdown",
   "id": "35f4a7ec",
   "metadata": {},
   "source": [
    "This is our hamiltonian"
   ]
  },
  {
   "cell_type": "code",
   "execution_count": 35,
   "id": "150e529e",
   "metadata": {},
   "outputs": [
    {
     "data": {
      "text/plain": [
       "array([-1.15944647e+00+0.j, -1.11333445e+00+0.j, -1.11333445e+00+0.j,\n",
       "       -1.11333445e+00+0.j, -1.06964452e+00+0.j, -9.78412751e-01+0.j,\n",
       "       -9.78412751e-01+0.j, -9.40387240e-01+0.j, -8.75476806e-01+0.j,\n",
       "       -8.75476806e-01+0.j, -8.31793122e-01+0.j, -8.31793122e-01+0.j,\n",
       "       -7.20070885e-01+0.j, -7.20070885e-01+0.j, -3.02025550e-01+0.j,\n",
       "        1.94289029e-16+0.j])"
      ]
     },
     "execution_count": 35,
     "metadata": {},
     "output_type": "execute_result"
    }
   ],
   "source": [
    "eig"
   ]
  },
  {
   "cell_type": "markdown",
   "id": "ad4a63c5",
   "metadata": {},
   "source": [
    "These are our eigenvalues"
   ]
  },
  {
   "cell_type": "code",
   "execution_count": 36,
   "id": "14765a92",
   "metadata": {},
   "outputs": [
    {
     "data": {
      "text/plain": [
       "(-1.1594464665219517+0j)"
      ]
     },
     "execution_count": 36,
     "metadata": {},
     "output_type": "execute_result"
    }
   ],
   "source": [
    "np.min(eig)"
   ]
  },
  {
   "cell_type": "markdown",
   "id": "13d1c7fd",
   "metadata": {},
   "source": [
    "This is our ground state"
   ]
  },
  {
   "cell_type": "markdown",
   "id": "ed4da144",
   "metadata": {},
   "source": [
    "let's start with iqpe"
   ]
  },
  {
   "cell_type": "code",
   "execution_count": 37,
   "id": "144f3d7d",
   "metadata": {},
   "outputs": [],
   "source": [
    "from qiskit.circuit.library import PauliEvolutionGate"
   ]
  },
  {
   "cell_type": "code",
   "execution_count": 38,
   "id": "03bac3c1",
   "metadata": {},
   "outputs": [
    {
     "data": {
      "text/plain": [
       "Instruction(name='PauliEvolution', num_qubits=4, num_clbits=0, params=[1.0])"
      ]
     },
     "execution_count": 38,
     "metadata": {},
     "output_type": "execute_result"
    }
   ],
   "source": [
    "# Define parameters\n",
    "n_qubits = 4  # active space\n",
    "t = 1.0  # Time parameter\n",
    "n_iterations = 100\n",
    "\n",
    "# Create the unitary operator U = e^(-iHt)\n",
    "U = PauliEvolutionGate(pauli_hamiltonian, time=1.0)\n",
    "U"
   ]
  },
  {
   "cell_type": "code",
   "execution_count": 39,
   "id": "ded767a7",
   "metadata": {},
   "outputs": [
    {
     "data": {
      "text/plain": [
       "[1, (0.31365975401346685+0j)]"
      ]
     },
     "execution_count": 39,
     "metadata": {},
     "output_type": "execute_result"
    }
   ],
   "source": [
    "param = [1, np.exp(np.min(eig))]\n",
    "param"
   ]
  },
  {
   "cell_type": "code",
   "execution_count": 40,
   "id": "f0a63dc3",
   "metadata": {},
   "outputs": [],
   "source": [
    "n_qpe_qbits = 10\n",
    "\n",
    "U = HamiltonianGate(pauli_hamiltonian, 1, label='H')\n",
    "\n",
    "# Obtain a solution via QPE\n",
    "total_qbits = U.num_qubits + n_qpe_qbits\n",
    "measure_circ = QuantumCircuit(total_qbits, n_qpe_qbits)\n",
    "measure_circ.h([-1, -2])\n",
    "\n",
    "qpe = PhaseEstimation(n_qpe_qbits, U)"
   ]
  },
  {
   "cell_type": "code",
   "execution_count": 41,
   "id": "901c2045",
   "metadata": {},
   "outputs": [],
   "source": [
    "Qpe=qpe.decompose().decompose().decompose().decompose().decompose().decompose().decompose().decompose()\n",
    "measure_circ = measure_circ.compose(Qpe)"
   ]
  },
  {
   "cell_type": "code",
   "execution_count": 42,
   "id": "5d9c80c7",
   "metadata": {},
   "outputs": [
    {
     "name": "stdout",
     "output_type": "stream",
     "text": [
      "14\n",
      "0\n"
     ]
    }
   ],
   "source": [
    "print(Qpe.num_qubits)\n",
    "print(Qpe.num_clbits)"
   ]
  },
  {
   "cell_type": "code",
   "execution_count": 43,
   "id": "dabe3eab",
   "metadata": {},
   "outputs": [
    {
     "data": {
      "text/plain": [
       "Instruction(name='cQPE', num_qubits=15, num_clbits=0, params=[])"
      ]
     },
     "execution_count": 43,
     "metadata": {},
     "output_type": "execute_result"
    }
   ],
   "source": [
    "control = Qpe.to_gate().control(1)\n",
    "control"
   ]
  },
  {
   "cell_type": "code",
   "execution_count": 44,
   "id": "4da97dad",
   "metadata": {},
   "outputs": [
    {
     "name": "stdout",
     "output_type": "stream",
     "text": [
      "-0.85143839 * IIII\n",
      "+0.01092092 * IIIZ\n",
      "+0.06458547 * IIZI\n",
      "+0.10963239 * IIZZ\n",
      "+0.01092092 * IZII\n",
      "+0.12438850 * IZIZ\n",
      "+0.11509363 * IZZI\n",
      "+0.00546124 * XXXX\n",
      "+0.00546124 * XXYY\n",
      "+0.00546124 * YYXX\n",
      "+0.00546124 * YYYY\n",
      "+0.06458547 * ZIII\n",
      "+0.11509363 * ZIIZ\n",
      "+0.12658507 * ZIZI\n",
      "+0.10963239 * ZZII\n"
     ]
    }
   ],
   "source": [
    "for pauli, coeff in sorted(pauli_hamiltonian.label_iter()):\n",
    "    print(f\"{coeff.real:+.8f} * {pauli}\")"
   ]
  },
  {
   "cell_type": "markdown",
   "id": "74bfcd25",
   "metadata": {},
   "source": [
    "### This part exponentiates the pauli hamiltonmian to obtain Unitary_exp_hamiltonian"
   ]
  },
  {
   "cell_type": "code",
   "execution_count": 45,
   "id": "2278d6c1",
   "metadata": {},
   "outputs": [
    {
     "data": {
      "image/png": "[encoded data removed]",
      "text/plain": [
       "<Figure size 1792.5x367.889 with 1 Axes>"
      ]
     },
     "execution_count": 45,
     "metadata": {},
     "output_type": "execute_result"
    }
   ],
   "source": [
    "from qiskit.quantum_info import Statevector\n",
    "from qiskit_algorithms import TimeEvolutionProblem\n",
    "from qiskit_algorithms import TrotterQRTE\n",
    "\n",
    "initial_state = Statevector.from_label(\"0000\")\n",
    "problem = TimeEvolutionProblem(pauli_hamiltonian, initial_state=initial_state ,time=1.0)\n",
    "trotter = TrotterQRTE()\n",
    "result = trotter.evolve(problem)\n",
    "result.evolved_state.draw(\"mpl\")"
   ]
  },
  {
   "cell_type": "code",
   "execution_count": 46,
   "id": "58d4dcc5",
   "metadata": {},
   "outputs": [
    {
     "data": {
      "text/plain": [
       "qiskit.circuit.quantumcircuit.QuantumCircuit"
      ]
     },
     "execution_count": 46,
     "metadata": {},
     "output_type": "execute_result"
    }
   ],
   "source": [
    "type(result.evolved_state)"
   ]
  },
  {
   "cell_type": "code",
   "execution_count": 70,
   "id": "057da0e7",
   "metadata": {},
   "outputs": [],
   "source": [
    "exp_hamiltonian = result.evolved_state"
   ]
  },
  {
   "cell_type": "code",
   "execution_count": 71,
   "id": "b1b38854",
   "metadata": {},
   "outputs": [
    {
     "data": {
      "text/plain": [
       "<qiskit.circuit.quantumcircuit.QuantumCircuit at 0x79fe3c132a20>"
      ]
     },
     "execution_count": 71,
     "metadata": {},
     "output_type": "execute_result"
    }
   ],
   "source": [
    "exp_hamiltonian"
   ]
  },
  {
   "cell_type": "code",
   "execution_count": 53,
   "id": "d93c63f3",
   "metadata": {},
   "outputs": [],
   "source": [
    "from qiskit import QuantumCircuit, QuantumRegister, ClassicalRegister"
   ]
  },
  {
   "cell_type": "code",
   "execution_count": 51,
   "id": "c1ff51b0",
   "metadata": {},
   "outputs": [],
   "source": [
    "def iterative_phase_estimation(n_system_qubits, n_estimation_qubits, n_iterations):\n",
    "    phase_estimate = 0\n",
    "    \n",
    "    for k in range(n_iterations):\n",
    "        qc = create_iqpe_circuit(n_system_qubits, n_estimation_qubits, k)\n",
    "        \n",
    "        backend = Aer.get_backend('qasm_simulator')\n",
    "        job = execute(qc, backend, shots=1024)\n",
    "        result = job.result().get_counts()\n",
    "        \n",
    "        if '1' in result and result['1'] > result.get('0', 0):\n",
    "            phase_estimate += 1 / (2**(k+1))\n",
    "        \n",
    "        print(f\"Iteration {k+1}: Current phase estimate = {phase_estimate}\")\n",
    "    \n",
    "    return phase_estimate"
   ]
  },
  {
   "cell_type": "code",
   "execution_count": 54,
   "id": "357c6504",
   "metadata": {},
   "outputs": [
    {
     "ename": "CircuitError",
     "evalue": "'The circuit contains non-unitary operations and cannot be controlled. Note that no qiskit.circuit.Instruction objects may be in the circuit for this operation.'",
     "output_type": "error",
     "traceback": [
      "\u001b[0;31m---------------------------------------------------------------------------\u001b[0m",
      "\u001b[0;31mQiskitError\u001b[0m                               Traceback (most recent call last)",
      "File \u001b[0;32m~/.local/lib/python3.12/site-packages/qiskit/circuit/quantumcircuit.py:809\u001b[0m, in \u001b[0;36mQuantumCircuit.control\u001b[0;34m(self, num_ctrl_qubits, label, ctrl_state, annotated)\u001b[0m\n\u001b[1;32m    808\u001b[0m \u001b[38;5;28;01mtry\u001b[39;00m:\n\u001b[0;32m--> 809\u001b[0m     gate \u001b[38;5;241m=\u001b[39m \u001b[38;5;28;43mself\u001b[39;49m\u001b[38;5;241;43m.\u001b[39;49m\u001b[43mto_gate\u001b[49m\u001b[43m(\u001b[49m\u001b[43m)\u001b[49m\n\u001b[1;32m    810\u001b[0m \u001b[38;5;28;01mexcept\u001b[39;00m QiskitError \u001b[38;5;28;01mas\u001b[39;00m ex:\n",
      "File \u001b[0;32m~/.local/lib/python3.12/site-packages/qiskit/circuit/quantumcircuit.py:1618\u001b[0m, in \u001b[0;36mQuantumCircuit.to_gate\u001b[0;34m(self, parameter_map, label)\u001b[0m\n\u001b[1;32m   1616\u001b[0m \u001b[38;5;28;01mfrom\u001b[39;00m \u001b[38;5;21;01mqiskit\u001b[39;00m\u001b[38;5;21;01m.\u001b[39;00m\u001b[38;5;21;01mconverters\u001b[39;00m\u001b[38;5;21;01m.\u001b[39;00m\u001b[38;5;21;01mcircuit_to_gate\u001b[39;00m \u001b[38;5;28;01mimport\u001b[39;00m circuit_to_gate\n\u001b[0;32m-> 1618\u001b[0m \u001b[38;5;28;01mreturn\u001b[39;00m \u001b[43mcircuit_to_gate\u001b[49m\u001b[43m(\u001b[49m\u001b[38;5;28;43mself\u001b[39;49m\u001b[43m,\u001b[49m\u001b[43m \u001b[49m\u001b[43mparameter_map\u001b[49m\u001b[43m,\u001b[49m\u001b[43m \u001b[49m\u001b[43mlabel\u001b[49m\u001b[38;5;241;43m=\u001b[39;49m\u001b[43mlabel\u001b[49m\u001b[43m)\u001b[49m\n",
      "File \u001b[0;32m~/.local/lib/python3.12/site-packages/qiskit/converters/circuit_to_gate.py:60\u001b[0m, in \u001b[0;36mcircuit_to_gate\u001b[0;34m(circuit, parameter_map, equivalence_library, label)\u001b[0m\n\u001b[1;32m     59\u001b[0m \u001b[38;5;28;01mif\u001b[39;00m circuit\u001b[38;5;241m.\u001b[39mclbits:\n\u001b[0;32m---> 60\u001b[0m     \u001b[38;5;28;01mraise\u001b[39;00m QiskitError(\u001b[38;5;124m\"\u001b[39m\u001b[38;5;124mCircuit with classical bits cannot be converted to gate.\u001b[39m\u001b[38;5;124m\"\u001b[39m)\n\u001b[1;32m     62\u001b[0m \u001b[38;5;28;01mfor\u001b[39;00m instruction \u001b[38;5;129;01min\u001b[39;00m circuit\u001b[38;5;241m.\u001b[39mdata:\n",
      "\u001b[0;31mQiskitError\u001b[0m: 'Circuit with classical bits cannot be converted to gate.'",
      "\nThe above exception was the direct cause of the following exception:\n",
      "\u001b[0;31mCircuitError\u001b[0m                              Traceback (most recent call last)",
      "Cell \u001b[0;32mIn[54], line 7\u001b[0m\n\u001b[1;32m      4\u001b[0m n_iterations \u001b[38;5;241m=\u001b[39m \u001b[38;5;241m10\u001b[39m\n\u001b[1;32m      6\u001b[0m \u001b[38;5;66;03m# Run the iterative phase estimation\u001b[39;00m\n\u001b[0;32m----> 7\u001b[0m estimated_phase \u001b[38;5;241m=\u001b[39m \u001b[43miterative_phase_estimation\u001b[49m\u001b[43m(\u001b[49m\u001b[43mn_system_qubits\u001b[49m\u001b[43m,\u001b[49m\u001b[43m \u001b[49m\u001b[43mn_estimation_qubits\u001b[49m\u001b[43m,\u001b[49m\u001b[43m \u001b[49m\u001b[43mn_iterations\u001b[49m\u001b[43m)\u001b[49m\n\u001b[1;32m      8\u001b[0m estimated_phase\n",
      "Cell \u001b[0;32mIn[51], line 5\u001b[0m, in \u001b[0;36miterative_phase_estimation\u001b[0;34m(n_system_qubits, n_estimation_qubits, n_iterations)\u001b[0m\n\u001b[1;32m      2\u001b[0m phase_estimate \u001b[38;5;241m=\u001b[39m \u001b[38;5;241m0\u001b[39m\n\u001b[1;32m      4\u001b[0m \u001b[38;5;28;01mfor\u001b[39;00m k \u001b[38;5;129;01min\u001b[39;00m \u001b[38;5;28mrange\u001b[39m(n_iterations):\n\u001b[0;32m----> 5\u001b[0m     qc \u001b[38;5;241m=\u001b[39m \u001b[43mcreate_iqpe_circuit\u001b[49m\u001b[43m(\u001b[49m\u001b[43mn_system_qubits\u001b[49m\u001b[43m,\u001b[49m\u001b[43m \u001b[49m\u001b[43mn_estimation_qubits\u001b[49m\u001b[43m,\u001b[49m\u001b[43m \u001b[49m\u001b[43mk\u001b[49m\u001b[43m)\u001b[49m\n\u001b[1;32m      7\u001b[0m     backend \u001b[38;5;241m=\u001b[39m Aer\u001b[38;5;241m.\u001b[39mget_backend(\u001b[38;5;124m'\u001b[39m\u001b[38;5;124mqasm_simulator\u001b[39m\u001b[38;5;124m'\u001b[39m)\n\u001b[1;32m      8\u001b[0m     job \u001b[38;5;241m=\u001b[39m execute(qc, backend, shots\u001b[38;5;241m=\u001b[39m\u001b[38;5;241m1024\u001b[39m)\n",
      "Cell \u001b[0;32mIn[50], line 11\u001b[0m, in \u001b[0;36mcreate_iqpe_circuit\u001b[0;34m(n_system_qubits, n_estimation_qubits, power)\u001b[0m\n\u001b[1;32m      8\u001b[0m qc\u001b[38;5;241m.\u001b[39mh(qr_estimation)\n\u001b[1;32m     10\u001b[0m \u001b[38;5;28;01mfor\u001b[39;00m _ \u001b[38;5;129;01min\u001b[39;00m \u001b[38;5;28mrange\u001b[39m(\u001b[38;5;241m2\u001b[39m\u001b[38;5;241m*\u001b[39m\u001b[38;5;241m*\u001b[39mpower):\n\u001b[0;32m---> 11\u001b[0m     \u001b[43mqc\u001b[49m\u001b[38;5;241;43m.\u001b[39;49m\u001b[43mcontrol\u001b[49m\u001b[43m(\u001b[49m\u001b[38;5;241;43m1\u001b[39;49m\u001b[43m)\u001b[49m\u001b[38;5;241m.\u001b[39mappend(exponentiated_hamiltonian, [qr_estimation[\u001b[38;5;241m0\u001b[39m]] \u001b[38;5;241m+\u001b[39m qr_system[:])\n\u001b[1;32m     13\u001b[0m qc\u001b[38;5;241m.\u001b[39mh(qr_estimation)\n\u001b[1;32m     15\u001b[0m qc\u001b[38;5;241m.\u001b[39mmeasure(qr_estimation, cr)\n",
      "File \u001b[0;32m~/.local/lib/python3.12/site-packages/qiskit/circuit/quantumcircuit.py:811\u001b[0m, in \u001b[0;36mQuantumCircuit.control\u001b[0;34m(self, num_ctrl_qubits, label, ctrl_state, annotated)\u001b[0m\n\u001b[1;32m    809\u001b[0m     gate \u001b[38;5;241m=\u001b[39m \u001b[38;5;28mself\u001b[39m\u001b[38;5;241m.\u001b[39mto_gate()\n\u001b[1;32m    810\u001b[0m \u001b[38;5;28;01mexcept\u001b[39;00m QiskitError \u001b[38;5;28;01mas\u001b[39;00m ex:\n\u001b[0;32m--> 811\u001b[0m     \u001b[38;5;28;01mraise\u001b[39;00m CircuitError(\n\u001b[1;32m    812\u001b[0m         \u001b[38;5;124m\"\u001b[39m\u001b[38;5;124mThe circuit contains non-unitary operations and cannot be \u001b[39m\u001b[38;5;124m\"\u001b[39m\n\u001b[1;32m    813\u001b[0m         \u001b[38;5;124m\"\u001b[39m\u001b[38;5;124mcontrolled. Note that no qiskit.circuit.Instruction objects may \u001b[39m\u001b[38;5;124m\"\u001b[39m\n\u001b[1;32m    814\u001b[0m         \u001b[38;5;124m\"\u001b[39m\u001b[38;5;124mbe in the circuit for this operation.\u001b[39m\u001b[38;5;124m\"\u001b[39m\n\u001b[1;32m    815\u001b[0m     ) \u001b[38;5;28;01mfrom\u001b[39;00m \u001b[38;5;21;01mex\u001b[39;00m\n\u001b[1;32m    817\u001b[0m controlled_gate \u001b[38;5;241m=\u001b[39m gate\u001b[38;5;241m.\u001b[39mcontrol(num_ctrl_qubits, label, ctrl_state, annotated)\n\u001b[1;32m    818\u001b[0m control_qreg \u001b[38;5;241m=\u001b[39m QuantumRegister(num_ctrl_qubits)\n",
      "\u001b[0;31mCircuitError\u001b[0m: 'The circuit contains non-unitary operations and cannot be controlled. Note that no qiskit.circuit.Instruction objects may be in the circuit for this operation.'"
     ]
    }
   ],
   "source": [
    "# Parameters\n",
    "n_system_qubits = 4\n",
    "n_estimation_qubits = 1\n",
    "n_iterations = 10\n",
    "\n",
    "# Run the iterative phase estimation\n",
    "estimated_phase = iterative_phase_estimation(n_system_qubits, n_estimation_qubits, n_iterations)\n",
    "estimated_phase"
   ]
  },
  {
   "cell_type": "code",
   "execution_count": null,
   "id": "37f42b43",
   "metadata": {},
   "outputs": [],
   "source": []
  }
 ],
 "metadata": {
  "kernelspec": {
   "display_name": "cirq",
   "language": "python",
   "name": "cirq"
  },
  "language_info": {
   "codemirror_mode": {
    "name": "ipython",
    "version": 3
   },
   "file_extension": ".py",
   "mimetype": "text/x-python",
   "name": "python",
   "nbconvert_exporter": "python",
   "pygments_lexer": "ipython3",
   "version": "3.12.3"
  }
 },
 "nbformat": 4,
 "nbformat_minor": 5
}
