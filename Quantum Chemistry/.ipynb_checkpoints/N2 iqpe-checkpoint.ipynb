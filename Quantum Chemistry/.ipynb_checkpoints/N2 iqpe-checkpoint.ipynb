{
 "cells": [
  {
   "cell_type": "markdown",
   "id": "a3e7543d",
   "metadata": {},
   "source": [
    "# N2 molecule eigenvalue estimation using vqe and qpe and subsequently ITPE"
   ]
  },
  {
   "cell_type": "code",
   "execution_count": 1,
   "id": "2eb4635d",
   "metadata": {},
   "outputs": [],
   "source": [
    "import numpy as np\n",
    "import os\n",
    "import sys\n",
    "import pyscf\n",
    "from qiskit import QuantumCircuit\n",
    "from qiskit_algorithms.minimum_eigensolvers import VQE\n",
    "from qiskit_algorithms.optimizers import SLSQP\n",
    "from qiskit.circuit.library import PhaseEstimation, TwoLocal\n",
    "from qiskit.circuit.library import HamiltonianGate\n",
    "from qiskit.primitives import Estimator\n",
    "from qiskit.quantum_info import SparsePauliOp\n",
    "from qiskit_aer import AerSimulator\n",
    "\n",
    "### import nature library\n",
    "from qiskit_nature.second_q.drivers import PySCFDriver\n",
    "from qiskit_nature.second_q.formats.molecule_info import MoleculeInfo\n",
    "from qiskit_nature.second_q.transformers import FreezeCoreTransformer\n",
    "from qiskit_nature.units import DistanceUnit\n",
    "from qiskit_nature.second_q.mappers import JordanWignerMapper, QubitMapper\n",
    "import time\n",
    "import inspect\n",
    "from pprint import pprint"
   ]
  },
  {
   "cell_type": "code",
   "execution_count": 2,
   "id": "f338b7ec",
   "metadata": {
    "scrolled": true
   },
   "outputs": [
    {
     "name": "stdout",
     "output_type": "stream",
     "text": [
      "Fermionic Operator\n",
      "number spin orbitals=16, number terms=3288\n",
      "  -6.453989922110553 * ( +_0 -_0 )\n",
      "+ 0.43160576126931977 * ( +_0 -_4 )\n",
      "+ -5.066407818451159 * ( +_1 -_1 )\n",
      "+ -0.2558246180562758 * ( +_1 -_7 )\n",
      "+ -5.3261509124200845 * ( +_2 -_2 )\n",
      "+ -5.326150912420077 * ( +_3 -_3 )\n",
      "+ 0.43160576126932 * ( +_4 -_0 )\n",
      "+ -5.065119802467574 * ( +_4 -_4 )\n",
      "...\n"
     ]
    }
   ],
   "source": [
    "# Define the molecule\n",
    "driver = PySCFDriver(\n",
    "    atom=\"N 0 0 0; N 0 0 1.0975\",\n",
    "    basis=\"sto3g\",\n",
    "    charge=0,\n",
    "    spin=0,\n",
    "    unit=DistanceUnit.ANGSTROM,\n",
    ")\n",
    "\n",
    "# Run the driver to get the problem\n",
    "problem = driver.run()\n",
    "\n",
    "# Define the log output (here using stdout)\n",
    "flog = sys.stdout\n",
    "\n",
    "### Apply freezecore transformer\n",
    "transformer = FreezeCoreTransformer()\n",
    "problem = transformer.transform(problem)\n",
    "\n",
    "hamiltonian = problem.hamiltonian.second_q_op()\n",
    "#print(hamiltonian)\n",
    "print(\"\\n\".join(str(hamiltonian).splitlines()[:10] + [\"...\"]))"
   ]
  },
  {
   "cell_type": "code",
   "execution_count": 3,
   "id": "6b856914",
   "metadata": {},
   "outputs": [
    {
     "name": "stdout",
     "output_type": "stream",
     "text": [
      "(5, 5)\n",
      "8\n"
     ]
    }
   ],
   "source": [
    "print(problem.num_particles)\n",
    "print(problem.num_spatial_orbitals)\n",
    "#print(problem.active_orbitals)"
   ]
  },
  {
   "cell_type": "code",
   "execution_count": 4,
   "id": "366fb902",
   "metadata": {},
   "outputs": [
    {
     "name": "stdout",
     "output_type": "stream",
     "text": [
      "-25.66868383 * IIIIIIIIIIIIIIII\n",
      "+1.06406699 * IIIIIIIIIIIIIIIZ\n",
      "+0.68436479 * IIIIIIIIIIIIIIZI\n",
      "+0.11401214 * IIIIIIIIIIIIIIZZ\n",
      "+0.66055804 * IIIIIIIIIIIIIZII\n",
      "+0.12815933 * IIIIIIIIIIIIIZIZ\n",
      "+0.11484539 * IIIIIIIIIIIIIZZI\n",
      "+0.66055804 * IIIIIIIIIIIIZIII\n",
      "+0.12815933 * IIIIIIIIIIIIZIIZ\n",
      "...\n"
     ]
    }
   ],
   "source": [
    "mapper = JordanWignerMapper()\n",
    "\n",
    "pauli_hamiltonian = mapper.map(hamiltonian)\n",
    "c = 0\n",
    "for pauli, coeff in sorted(pauli_hamiltonian.label_iter()):\n",
    "    c+= 1\n",
    "    if c <10:\n",
    "        print(f\"{coeff.real:+.8f} * {pauli}\")\n",
    "    else:\n",
    "        print(\"...\")\n",
    "        break"
   ]
  },
  {
   "cell_type": "code",
   "execution_count": 5,
   "id": "df404019",
   "metadata": {},
   "outputs": [
    {
     "name": "stdout",
     "output_type": "stream",
     "text": [
      "(1, 1)\n",
      "2\n"
     ]
    }
   ],
   "source": [
    "from qiskit_nature.second_q.transformers import ActiveSpaceTransformer\n",
    "\n",
    "as_transformer = ActiveSpaceTransformer(2,2) # syntax = AST(num_electrons,num_orbitals)\n",
    "as_problem = as_transformer.transform(problem)\n",
    "\n",
    "print(as_problem.num_particles)\n",
    "print(as_problem.num_spatial_orbitals)"
   ]
  },
  {
   "cell_type": "code",
   "execution_count": 6,
   "id": "27a5a186",
   "metadata": {},
   "outputs": [
    {
     "name": "stdout",
     "output_type": "stream",
     "text": [
      "Polynomial Tensor\n",
      " \"+-\":\n",
      "array([[-1.12465081e+00, -1.19442118e-17],\n",
      "       [-1.19442118e-17, -7.62075705e-01]])\n",
      " \"++--\":\n",
      "array([[[[5.85155853e-01, 3.19390406e-17],\n",
      "         [3.19390406e-17, 5.40817488e-01]],\n",
      "\n",
      "        [[3.19390406e-17, 3.82404172e-02],\n",
      "         [3.82404172e-02, 2.98873649e-17]]],\n",
      "\n",
      "\n",
      "       [[[3.19390406e-17, 3.82404172e-02],\n",
      "         [3.82404172e-02, 2.98873649e-17]],\n",
      "\n",
      "        [[5.40817488e-01, 2.98873649e-17],\n",
      "         [2.98873649e-17, 6.05101909e-01]]]])\n"
     ]
    }
   ],
   "source": [
    "print(as_problem.hamiltonian.electronic_integrals.alpha)"
   ]
  },
  {
   "cell_type": "code",
   "execution_count": 7,
   "id": "fce2352a",
   "metadata": {},
   "outputs": [],
   "source": [
    "hamiltonian = as_problem.hamiltonian.second_q_op()"
   ]
  },
  {
   "cell_type": "markdown",
   "id": "f8b3d4ce",
   "metadata": {},
   "source": [
    "#### Hilbert space reduction for pauli hamiltonian using AST"
   ]
  },
  {
   "cell_type": "code",
   "execution_count": 8,
   "id": "f8a1abe1",
   "metadata": {
    "scrolled": true
   },
   "outputs": [
    {
     "name": "stdout",
     "output_type": "stream",
     "text": [
      "-1.06746480 * IIII\n",
      "+0.15518780 * IIIZ\n",
      "-0.03108626 * IIZI\n",
      "+0.12564427 * IIZZ\n",
      "+0.15518780 * IZII\n",
      "+0.14628896 * IZIZ\n",
      "+0.13520437 * IZZI\n",
      "+0.00956010 * XXXX\n",
      "+0.00956010 * XXYY\n",
      "+0.00956010 * YYXX\n",
      "+0.00956010 * YYYY\n",
      "-0.03108626 * ZIII\n",
      "+0.13520437 * ZIIZ\n",
      "+0.15127548 * ZIZI\n",
      "+0.12564427 * ZZII\n"
     ]
    }
   ],
   "source": [
    "#convert second quantized operator into pauli strings using any chemistry encoding of choice. we use jw.\n",
    "mapper = JordanWignerMapper()\n",
    "\n",
    "pauli_hamiltonian = mapper.map(hamiltonian)\n",
    "\n",
    "for pauli, coeff in sorted(pauli_hamiltonian.label_iter()):\n",
    "    print(f\"{coeff.real:+.8f} * {pauli}\")"
   ]
  },
  {
   "cell_type": "code",
   "execution_count": 9,
   "id": "9d7a0ab3",
   "metadata": {},
   "outputs": [
    {
     "data": {
      "text/plain": [
       "SparsePauliOp(['IIII', 'IIIZ', 'IIZI', 'IZII', 'ZIII', 'IIZZ', 'IZIZ', 'ZIIZ', 'YYYY', 'XXYY', 'YYXX', 'XXXX', 'IZZI', 'ZIZI', 'ZZII'],\n",
       "              coeffs=[-1.0674648 +0.j,  0.1551878 +0.j, -0.03108626+0.j,  0.1551878 +0.j,\n",
       " -0.03108626+0.j,  0.12564427+0.j,  0.14628896+0.j,  0.13520437+0.j,\n",
       "  0.0095601 +0.j,  0.0095601 +0.j,  0.0095601 +0.j,  0.0095601 +0.j,\n",
       "  0.13520437+0.j,  0.15127548+0.j,  0.12564427+0.j])"
      ]
     },
     "execution_count": 9,
     "metadata": {},
     "output_type": "execute_result"
    }
   ],
   "source": [
    "pauli_hamiltonian"
   ]
  },
  {
   "cell_type": "code",
   "execution_count": 10,
   "id": "ffb1b859",
   "metadata": {},
   "outputs": [
    {
     "name": "stdout",
     "output_type": "stream",
     "text": [
      "NUMPY eig (-1.6661032295567393+0j)\n",
      "VQE eig -1.6660895372895221\n"
     ]
    }
   ],
   "source": [
    "eig = np.linalg.eigvals(pauli_hamiltonian)\n",
    "print('NUMPY eig',np.min(eig))\n",
    "\n",
    "estimator = Estimator()\n",
    "optimizer = SLSQP()\n",
    "ansatz = TwoLocal(rotation_blocks=['ry', 'rz'], entanglement_blocks='cz')\n",
    "\n",
    "vqe = VQE(estimator, ansatz, optimizer)\n",
    "result = vqe.compute_minimum_eigenvalue(operator=pauli_hamiltonian)\n",
    "print('VQE eig', result.eigenvalue)"
   ]
  },
  {
   "cell_type": "code",
   "execution_count": 11,
   "id": "c166c258",
   "metadata": {},
   "outputs": [],
   "source": [
    "n_qpe_qbits = 10\n",
    "\n",
    "U = HamiltonianGate(pauli_hamiltonian, 1, label='H')\n",
    "\n",
    "# Obtain a solution via QPE\n",
    "total_qbits = U.num_qubits + n_qpe_qbits\n",
    "measure_circ = QuantumCircuit(total_qbits, n_qpe_qbits)\n",
    "measure_circ.h([-1, -2])\n",
    "\n",
    "qpe = PhaseEstimation(n_qpe_qbits, U)\n",
    "Qpe=qpe.decompose().decompose().decompose().decompose().decompose().decompose().decompose()"
   ]
  },
  {
   "cell_type": "code",
   "execution_count": 12,
   "id": "26e486f9",
   "metadata": {},
   "outputs": [
    {
     "data": {
      "text/plain": [
       "<qiskit.circuit.instructionset.InstructionSet at 0x7498a0265930>"
      ]
     },
     "execution_count": 12,
     "metadata": {},
     "output_type": "execute_result"
    }
   ],
   "source": [
    "measure_circ = measure_circ.compose(Qpe)\n",
    "measure_circ.measure(range(n_qpe_qbits), range(n_qpe_qbits))"
   ]
  },
  {
   "cell_type": "code",
   "execution_count": 13,
   "id": "a61fb314",
   "metadata": {},
   "outputs": [
    {
     "name": "stdout",
     "output_type": "stream",
     "text": [
      "{'1100011100': 1, '1011101100': 1, '1001110100': 1, '0110111100': 1, '0011111000': 4, '1110110100': 2}\n"
     ]
    }
   ],
   "source": [
    "from qiskit_aer import Aer\n",
    "backend=Aer.get_backend('aer_simulator')\n",
    "job=backend.run(measure_circ,shots=10)\n",
    "result=job.result()\n",
    "counts = job.result().get_counts()\n",
    "print(counts)"
   ]
  },
  {
   "cell_type": "code",
   "execution_count": 14,
   "id": "417f8268",
   "metadata": {},
   "outputs": [
    {
     "name": "stdout",
     "output_type": "stream",
     "text": [
      "MAX count: ('0011111000', 4)\n",
      "Theta value: 0.12109375\n",
      "QPE-approximated U-eigenvalue: (0.724247082951467+0.6895405447370668j)\n",
      "QPE-approximated H-eigenvalue: -0.760854470791278\n"
     ]
    }
   ],
   "source": [
    "max_count = max(counts.items(), key=lambda x: x[1])\n",
    "print(f'MAX count: {max_count}')\n",
    "\n",
    "theta = int(max_count[0][::-1], 2) / 2**n_qpe_qbits\n",
    "print(f'Theta value: {theta}')\n",
    "print(f'QPE-approximated U-eigenvalue: {np.exp(2*1j*np.pi * theta)}')\n",
    "print(f'QPE-approximated H-eigenvalue: {-2 * np.pi * theta}')"
   ]
  },
  {
   "cell_type": "markdown",
   "id": "3bc8195e",
   "metadata": {},
   "source": [
    "## For different orientation of N2 molecule"
   ]
  },
  {
   "cell_type": "code",
   "execution_count": 15,
   "id": "9c3220b8",
   "metadata": {},
   "outputs": [
    {
     "name": "stdout",
     "output_type": "stream",
     "text": [
      "Fermionic Operator\n",
      "number spin orbitals=16, number terms=3288\n",
      "  -4.74705673302898 * ( +_0 -_0 )\n",
      "+ 0.21503917441191678 * ( +_0 -_2 )\n",
      "+ -4.594261420162646 * ( +_1 -_1 )\n",
      "+ -0.245283474340582 * ( +_1 -_7 )\n",
      "+ 0.21503917441191672 * ( +_2 -_0 )\n",
      "+ -4.305879583217245 * ( +_2 -_2 )\n",
      "+ -4.236260808426506 * ( +_3 -_3 )\n",
      "+ -4.236260808426504 * ( +_4 -_4 )\n",
      "...\n"
     ]
    }
   ],
   "source": [
    "driver = PySCFDriver(\n",
    "    atom=\"N -1.05068773 0 0; N 1.05068773 0 0\",\n",
    "    basis=\"sto3g\",\n",
    "    charge=0,\n",
    "    spin=0,\n",
    "    unit=DistanceUnit.ANGSTROM,\n",
    ")\n",
    "\n",
    "\n",
    "# Run the driver to get the problem\n",
    "problem = driver.run()\n",
    "\n",
    "# Define the log output (here using stdout)\n",
    "flog = sys.stdout\n",
    "\n",
    "### Apply freezecore transformer\n",
    "transformer = FreezeCoreTransformer()\n",
    "problem = transformer.transform(problem)\n",
    "\n",
    "hamiltonian = problem.hamiltonian.second_q_op()\n",
    "#print(hamiltonian)\n",
    "print(\"\\n\".join(str(hamiltonian).splitlines()[:10] + [\"...\"]))"
   ]
  },
  {
   "cell_type": "code",
   "execution_count": 16,
   "id": "330b4d50",
   "metadata": {},
   "outputs": [
    {
     "name": "stdout",
     "output_type": "stream",
     "text": [
      "(5, 5)\n",
      "8\n"
     ]
    }
   ],
   "source": [
    "print(problem.num_particles)\n",
    "print(problem.num_spatial_orbitals)\n",
    "#print(problem.active_orbitals)"
   ]
  },
  {
   "cell_type": "code",
   "execution_count": 17,
   "id": "6668f676",
   "metadata": {},
   "outputs": [
    {
     "name": "stdout",
     "output_type": "stream",
     "text": [
      "(1, 1)\n",
      "2\n"
     ]
    }
   ],
   "source": [
    "from qiskit_nature.second_q.transformers import ActiveSpaceTransformer\n",
    "\n",
    "as_transformer = ActiveSpaceTransformer(2,2) # syntax = AST(num_electrons,num_orbitals)\n",
    "as_problem = as_transformer.transform(problem)\n",
    "print(as_problem.num_particles)\n",
    "print(as_problem.num_spatial_orbitals)"
   ]
  },
  {
   "cell_type": "code",
   "execution_count": 18,
   "id": "61f4f538",
   "metadata": {},
   "outputs": [
    {
     "name": "stdout",
     "output_type": "stream",
     "text": [
      "Polynomial Tensor\n",
      " \"+-\":\n",
      "array([[-7.20070885e-01,  9.14991928e-14],\n",
      "       [ 9.14991928e-14, -8.32591102e-01]])\n",
      " \"++--\":\n",
      "array([[[[ 4.97554008e-01,  4.60352242e-15],\n",
      "         [ 4.60352242e-15,  4.60164307e-01]],\n",
      "\n",
      "        [[ 4.60352242e-15,  2.06265556e-02],\n",
      "         [ 2.06265556e-02, -1.37112544e-14]]],\n",
      "\n",
      "\n",
      "       [[[ 4.60352242e-15,  2.06265556e-02],\n",
      "         [ 2.06265556e-02, -1.37112544e-14]],\n",
      "\n",
      "        [[ 4.60164307e-01, -1.37112544e-14],\n",
      "         [-1.37112544e-14,  5.06340300e-01]]]])\n"
     ]
    }
   ],
   "source": [
    "print(as_problem.hamiltonian.electronic_integrals.alpha)"
   ]
  },
  {
   "cell_type": "code",
   "execution_count": 19,
   "id": "85fec6c3",
   "metadata": {},
   "outputs": [
    {
     "name": "stdout",
     "output_type": "stream",
     "text": [
      "-0.85183738 * IIII\n",
      "+0.01072143 * IIIZ\n",
      "+0.06478496 * IIZI\n",
      "+0.10988444 * IIZZ\n",
      "+0.01072143 * IZII\n",
      "+0.12438850 * IZIZ\n",
      "+0.11504108 * IZZI\n",
      "+0.00515664 * XXXX\n",
      "+0.00515664 * XXYY\n",
      "+0.00515664 * YYXX\n",
      "+0.00515664 * YYYY\n",
      "+0.06478496 * ZIII\n",
      "+0.11504108 * ZIIZ\n",
      "+0.12658507 * ZIZI\n",
      "+0.10988444 * ZZII\n"
     ]
    }
   ],
   "source": [
    "hamiltonian = as_problem.hamiltonian.second_q_op()\n",
    "\n",
    "#convert second quantized operator into pauli strings using any chemistry encoding of choice. we use jw.\n",
    "mapper = JordanWignerMapper()\n",
    "\n",
    "pauli_hamiltonian = mapper.map(hamiltonian)\n",
    "\n",
    "for pauli, coeff in sorted(pauli_hamiltonian.label_iter()):\n",
    "    print(f\"{coeff.real:+.8f} * {pauli}\")"
   ]
  },
  {
   "cell_type": "code",
   "execution_count": 20,
   "id": "3e1f5b07",
   "metadata": {},
   "outputs": [
    {
     "name": "stdout",
     "output_type": "stream",
     "text": [
      "SparsePauliOp(['IIII', 'IIIZ', 'IIZI', 'IZII', 'ZIII', 'IIZZ', 'IZIZ', 'ZIIZ', 'YYYY', 'XXYY', 'YYXX', 'XXXX', 'IZZI', 'ZIZI', 'ZZII'],\n",
      "              coeffs=[-0.85183738+0.j,  0.01072143+0.j,  0.06478496+0.j,  0.01072143+0.j,\n",
      "  0.06478496+0.j,  0.10988444+0.j,  0.1243885 +0.j,  0.11504108+0.j,\n",
      "  0.00515664+0.j,  0.00515664+0.j,  0.00515664+0.j,  0.00515664+0.j,\n",
      "  0.11504108+0.j,  0.12658507+0.j,  0.10988444+0.j])\n"
     ]
    }
   ],
   "source": [
    "print(pauli_hamiltonian)"
   ]
  },
  {
   "cell_type": "code",
   "execution_count": 21,
   "id": "ce473a89",
   "metadata": {},
   "outputs": [
    {
     "name": "stdout",
     "output_type": "stream",
     "text": [
      "NUMPY eig (-1.1607917075196277+0j)\n",
      "VQE eig -1.1588399484463465\n"
     ]
    }
   ],
   "source": [
    "eig = np.linalg.eigvals(pauli_hamiltonian)\n",
    "print('NUMPY eig',np.min(eig))\n",
    "\n",
    "estimator = Estimator()\n",
    "optimizer = SLSQP()\n",
    "ansatz = TwoLocal(rotation_blocks=['ry', 'rz'], entanglement_blocks='cz')\n",
    "\n",
    "vqe = VQE(estimator, ansatz, optimizer)\n",
    "result = vqe.compute_minimum_eigenvalue(operator=pauli_hamiltonian)\n",
    "print('VQE eig', result.eigenvalue)"
   ]
  },
  {
   "cell_type": "code",
   "execution_count": 22,
   "id": "c0170e0b",
   "metadata": {},
   "outputs": [],
   "source": [
    "n_qpe_qbits = 10\n",
    "\n",
    "U = HamiltonianGate(pauli_hamiltonian, 1, label='H')\n",
    "\n",
    "# Obtain a solution via QPE\n",
    "total_qbits = U.num_qubits + n_qpe_qbits\n",
    "measure_circ = QuantumCircuit(total_qbits, n_qpe_qbits)\n",
    "measure_circ.h([-1, -2])\n",
    "\n",
    "qpe = PhaseEstimation(n_qpe_qbits, U)\n",
    "Qpe=qpe.decompose().decompose().decompose().decompose().decompose().decompose().decompose()"
   ]
  },
  {
   "cell_type": "code",
   "execution_count": 23,
   "id": "d7b5db68",
   "metadata": {},
   "outputs": [
    {
     "data": {
      "text/plain": [
       "<qiskit.circuit.instructionset.InstructionSet at 0x749899ed6920>"
      ]
     },
     "execution_count": 23,
     "metadata": {},
     "output_type": "execute_result"
    }
   ],
   "source": [
    "measure_circ = measure_circ.compose(Qpe)\n",
    "measure_circ.measure(range(n_qpe_qbits), range(n_qpe_qbits))\n",
    "\n",
    "#measure_circ.draw(\"mpl\")"
   ]
  },
  {
   "cell_type": "code",
   "execution_count": 24,
   "id": "0a170280",
   "metadata": {},
   "outputs": [
    {
     "name": "stdout",
     "output_type": "stream",
     "text": [
      "{'1110000100': 1, '0110111000': 1, '0000000000': 2, '1010111000': 2, '0001000100': 2, '1001000100': 1, '0110110100': 1}\n"
     ]
    }
   ],
   "source": [
    "from qiskit_aer import Aer\n",
    "backend=Aer.get_backend('aer_simulator')\n",
    "job=backend.run(measure_circ,shots=10)\n",
    "result=job.result()\n",
    "counts = job.result().get_counts()\n",
    "print(counts)"
   ]
  },
  {
   "cell_type": "code",
   "execution_count": 25,
   "id": "d1d326f5",
   "metadata": {},
   "outputs": [
    {
     "name": "stdout",
     "output_type": "stream",
     "text": [
      "MAX count: ('0000000000', 2)\n",
      "Theta value: 0.0\n",
      "QPE-approximated U-eigenvalue: (1+0j)\n",
      "QPE-approximated H-eigenvalue: -0.0\n"
     ]
    }
   ],
   "source": [
    "max_count = max(counts.items(), key=lambda x: x[1])\n",
    "print(f'MAX count: {max_count}')\n",
    "\n",
    "theta = int(max_count[0][::-1], 2) / 2**n_qpe_qbits\n",
    "print(f'Theta value: {theta}')\n",
    "print(f'QPE-approximated U-eigenvalue: {np.exp(2*1j*np.pi * theta)}')\n",
    "print(f'QPE-approximated H-eigenvalue: {-2 * np.pi * theta}')"
   ]
  },
  {
   "cell_type": "code",
   "execution_count": 26,
   "id": "0ae03b87",
   "metadata": {},
   "outputs": [],
   "source": [
    "from qiskit_algorithms.phase_estimators.phase_estimator import PhaseEstimator"
   ]
  },
  {
   "cell_type": "code",
   "execution_count": 27,
   "id": "7061ccf7",
   "metadata": {},
   "outputs": [
    {
     "data": {
      "text/plain": [
       "array([-1.16079171e+00+0.j, -1.11312424e+00+0.j, -1.11312424e+00+0.j,\n",
       "       -1.11312424e+00+0.j, -1.07187112e+00+0.j, -9.79210731e-01+0.j,\n",
       "       -9.79210731e-01+0.j, -9.40637958e-01+0.j, -8.75476806e-01+0.j,\n",
       "       -8.75476806e-01+0.j, -8.32591102e-01+0.j, -8.32591102e-01+0.j,\n",
       "       -7.20070885e-01+0.j, -7.20070885e-01+0.j, -3.02025550e-01+0.j,\n",
       "       -4.99600361e-16+0.j])"
      ]
     },
     "execution_count": 27,
     "metadata": {},
     "output_type": "execute_result"
    }
   ],
   "source": [
    "eig = np.sort(eig)\n",
    "eig"
   ]
  },
  {
   "cell_type": "markdown",
   "id": "8395e4e4",
   "metadata": {},
   "source": [
    "![quantum phase estimation circuit](qpe_circuit.png)\n",
    "! <p style=\"text-align: center;\">QPE circuit</p>"
   ]
  },
  {
   "cell_type": "markdown",
   "id": "155b7590",
   "metadata": {},
   "source": [
    "# Iterative QPE"
   ]
  },
  {
   "cell_type": "markdown",
   "id": "e05cee4e",
   "metadata": {},
   "source": [
    "### **refer to this [link to notebook for iqpe](https://github.com/qiskit-community/ibm-quantum-challenge-spring-2023/blob/main/content/lab_3/lab3.ipynb)**"
   ]
  },
  {
   "cell_type": "markdown",
   "id": "461b74aa",
   "metadata": {},
   "source": [
    "Exponentiated pauli hamiltonian"
   ]
  },
  {
   "cell_type": "markdown",
   "id": "25dda862",
   "metadata": {},
   "source": [
    "### Method 1"
   ]
  },
  {
   "cell_type": "code",
   "execution_count": 77,
   "id": "c0fcb830",
   "metadata": {},
   "outputs": [
    {
     "name": "stdout",
     "output_type": "stream",
     "text": [
      "<class 'qiskit.circuit.quantumcircuit.QuantumCircuit'>\n"
     ]
    },
    {
     "data": {
      "image/png": "[encoded data removed]",
      "text/plain": [
       "<Figure size 2210.55x785.944 with 1 Axes>"
      ]
     },
     "execution_count": 77,
     "metadata": {},
     "output_type": "execute_result"
    }
   ],
   "source": [
    "# Define parameters\n",
    "n_qubits = 4  # active space\n",
    "t = 1.0  # Time parameter\n",
    "n_iterations = 100\n",
    "\n",
    "# Create the unitary operator U = e^(-iHt)\n",
    "instruct = PauliEvolutionGate(pauli_hamiltonian, time=1.0)\n",
    "#print(type(U_2))\n",
    "U_2 = QuantumCircuit(4)\n",
    "U_2.append(instruct, range(4))\n",
    "print(type(U_2))\n",
    "U_2 = U_2.decompose()\n",
    "U_2.draw(\"mpl\")"
   ]
  },
  {
   "cell_type": "markdown",
   "id": "1aac5636",
   "metadata": {},
   "source": [
    "### Method 2"
   ]
  },
  {
   "cell_type": "code",
   "execution_count": 78,
   "id": "60b87f28",
   "metadata": {},
   "outputs": [
    {
     "name": "stdout",
     "output_type": "stream",
     "text": [
      "<class 'qiskit.circuit.quantumcircuit.QuantumCircuit'>\n"
     ]
    },
    {
     "data": {
      "image/png": "[encoded data removed]",
      "text/plain": [
       "<Figure size 2210.55x785.944 with 1 Axes>"
      ]
     },
     "execution_count": 78,
     "metadata": {},
     "output_type": "execute_result"
    }
   ],
   "source": [
    "from qiskit.quantum_info import Statevector\n",
    "from qiskit_algorithms import TimeEvolutionProblem\n",
    "from qiskit_algorithms import TrotterQRTE\n",
    "\n",
    "initial_state = Statevector.from_label(\"0000\")\n",
    "problem = TimeEvolutionProblem(pauli_hamiltonian, initial_state=initial_state ,time=1.0)\n",
    "trotter = TrotterQRTE()\n",
    "result = trotter.evolve(problem)\n",
    "U_1 = result.evolved_state\n",
    "print(type(U_1))\n",
    "U_1 = U_1.decompose()\n",
    "U_1.draw(\"mpl\")"
   ]
  },
  {
   "cell_type": "markdown",
   "id": "4f2fea0a",
   "metadata": {},
   "source": [
    "## We will use method 1 i.e U_2"
   ]
  },
  {
   "cell_type": "code",
   "execution_count": 43,
   "id": "9743d665",
   "metadata": {},
   "outputs": [],
   "source": [
    "from qiskit import QuantumCircuit, QuantumRegister, ClassicalRegister"
   ]
  },
  {
   "cell_type": "code",
   "execution_count": null,
   "id": "a0b9eb8b",
   "metadata": {},
   "outputs": [],
   "source": [
    "qr_estimation = QuantumRegister(n_estimation_qubits, 'e')\n",
    "cr = ClassicalRegister(n_estimation_qubits, 'c')\n",
    "\n",
    "qc = QuantumCircuit(qr_estimation, U_2, cr)\n",
    "\n",
    "# Prepare initial state (you may want to modify this for a better initial guess)\n",
    "qc.x(qr_system[0])  # Let's start with |1000> as an example\n",
    "\n",
    "qc.h(qr_estimation)\n",
    "\n",
    "for _ in range(2**power):\n",
    "    qc.cx(qr_estimation[0], qr_system[0])\n",
    "    apply_hamiltonian(qc, qr_system, np.pi)  # Use pi as the time parameter\n",
    "    qc.cx(qr_estimation[0], qr_system[0])"
   ]
  },
  {
   "cell_type": "code",
   "execution_count": null,
   "id": "82bdcbfb",
   "metadata": {},
   "outputs": [],
   "source": [
    "def iterative_phase_estimation(n_system_qubits, n_estimation_qubits, n_iterations):\n",
    "    phase_estimate = 0\n",
    "    \n",
    "    for k in range(n_iterations):\n",
    "        qc = create_iqpe_circuit(n_system_qubits, n_estimation_qubits, k)\n",
    "        \n",
    "        backend = Aer.get_backend('qasm_simulator')\n",
    "        #job = execute(qc, backend, shots=1024)\n",
    "        result = job.result().get_counts()\n",
    "        \n",
    "        if '1' in result and result['1'] > result.get('0', 0):\n",
    "            phase_estimate += 1 / (2**(k+1))\n",
    "        \n",
    "        print(f\"Iteration {k+1}: Current phase estimate = {phase_estimate}\")\n",
    "    \n",
    "    return phase_estimate"
   ]
  },
  {
   "cell_type": "code",
   "execution_count": null,
   "id": "975a0901",
   "metadata": {},
   "outputs": [],
   "source": [
    "# Parameters\n",
    "n_system_qubits = 4\n",
    "n_estimation_qubits = 1\n",
    "n_iterations = 10\n",
    "\n",
    "# Run the iterative phase estimation\n",
    "estimated_phase = iterative_phase_estimation(n_system_qubits, n_estimation_qubits, n_iterations)\n",
    "estimated_phase"
   ]
  },
  {
   "cell_type": "code",
   "execution_count": null,
   "id": "7763ff4f",
   "metadata": {},
   "outputs": [],
   "source": []
  }
 ],
 "metadata": {
  "kernelspec": {
   "display_name": "cirq",
   "language": "python",
   "name": "cirq"
  },
  "language_info": {
   "codemirror_mode": {
    "name": "ipython",
    "version": 3
   },
   "file_extension": ".py",
   "mimetype": "text/x-python",
   "name": "python",
   "nbconvert_exporter": "python",
   "pygments_lexer": "ipython3",
   "version": "3.12.3"
  }
 },
 "nbformat": 4,
 "nbformat_minor": 5
}
