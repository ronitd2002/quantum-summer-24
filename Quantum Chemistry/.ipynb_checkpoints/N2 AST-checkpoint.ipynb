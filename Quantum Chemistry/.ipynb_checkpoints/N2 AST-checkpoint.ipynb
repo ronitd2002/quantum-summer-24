{
 "cells": [
  {
   "cell_type": "code",
   "execution_count": 15,
   "id": "2eb4635d",
   "metadata": {},
   "outputs": [],
   "source": [
    "import numpy as np\n",
    "import os\n",
    "import sys\n",
    "import pyscf\n",
    "from qiskit import QuantumCircuit\n",
    "from qiskit_algorithms.minimum_eigensolvers import VQE\n",
    "from qiskit_algorithms.optimizers import SLSQP\n",
    "from qiskit.circuit.library import PhaseEstimation, TwoLocal\n",
    "from qiskit.circuit.library import HamiltonianGate\n",
    "from qiskit.primitives import Estimator\n",
    "from qiskit.quantum_info import SparsePauliOp\n",
    "from qiskit_aer import AerSimulator\n",
    "\n",
    "### import nature library\n",
    "from qiskit_nature.second_q.drivers import PySCFDriver\n",
    "from qiskit_nature.second_q.formats.molecule_info import MoleculeInfo\n",
    "from qiskit_nature.second_q.transformers import FreezeCoreTransformer\n",
    "from qiskit_nature.units import DistanceUnit\n",
    "from qiskit_nature.second_q.mappers import JordanWignerMapper, QubitMapper\n",
    "import time\n",
    "import inspect\n",
    "from pprint import pprint"
   ]
  },
  {
   "cell_type": "code",
   "execution_count": 16,
   "id": "f338b7ec",
   "metadata": {
    "scrolled": true
   },
   "outputs": [
    {
     "name": "stdout",
     "output_type": "stream",
     "text": [
      "Fermionic Operator\n",
      "number spin orbitals=16, number terms=3288\n",
      "  -6.453989922110553 * ( +_0 -_0 )\n",
      "+ 0.43160576126932193 * ( +_0 -_4 )\n",
      "+ -5.066407818451159 * ( +_1 -_1 )\n",
      "+ -0.25582461805627965 * ( +_1 -_7 )\n",
      "+ -5.326150912420086 * ( +_2 -_2 )\n",
      "+ -5.326150912420085 * ( +_3 -_3 )\n",
      "+ 0.43160576126932193 * ( +_4 -_0 )\n",
      "+ -5.065119802467574 * ( +_4 -_4 )\n",
      "...\n"
     ]
    }
   ],
   "source": [
    "# Define the molecule\n",
    "driver = PySCFDriver(\n",
    "    atom=\"N 0 0 0; N 0 0 1.0975\",\n",
    "    basis=\"sto3g\",\n",
    "    charge=0,\n",
    "    spin=0,\n",
    "    unit=DistanceUnit.ANGSTROM,\n",
    ")\n",
    "\n",
    "# Run the driver to get the problem\n",
    "problem = driver.run()\n",
    "\n",
    "# Define the log output (here using stdout)\n",
    "flog = sys.stdout\n",
    "\n",
    "### Apply freezecore transformer\n",
    "transformer = FreezeCoreTransformer()\n",
    "problem = transformer.transform(problem)\n",
    "\n",
    "hamiltonian = problem.hamiltonian.second_q_op()\n",
    "#print(hamiltonian)\n",
    "print(\"\\n\".join(str(hamiltonian).splitlines()[:10] + [\"...\"]))"
   ]
  },
  {
   "cell_type": "code",
   "execution_count": 17,
   "id": "6b856914",
   "metadata": {},
   "outputs": [
    {
     "name": "stdout",
     "output_type": "stream",
     "text": [
      "(5, 5)\n",
      "8\n"
     ]
    }
   ],
   "source": [
    "print(problem.num_particles)\n",
    "print(problem.num_spatial_orbitals)\n",
    "#print(problem.active_orbitals)"
   ]
  },
  {
   "cell_type": "code",
   "execution_count": 19,
   "id": "df404019",
   "metadata": {},
   "outputs": [
    {
     "name": "stdout",
     "output_type": "stream",
     "text": [
      "(1, 1)\n",
      "2\n",
      "Polynomial Tensor\n",
      " \"+-\":\n",
      "array([[-1.12465081e+00, -5.77324185e-17],\n",
      "       [-5.77324185e-17, -7.62075705e-01]])\n",
      " \"++--\":\n",
      "array([[[[ 5.85155853e-01, -7.85876765e-17],\n",
      "         [-7.85876765e-17,  5.40817488e-01]],\n",
      "\n",
      "        [[-7.85876765e-17,  3.82404172e-02],\n",
      "         [ 3.82404172e-02, -6.18891450e-17]]],\n",
      "\n",
      "\n",
      "       [[[-7.85876765e-17,  3.82404172e-02],\n",
      "         [ 3.82404172e-02, -6.18891450e-17]],\n",
      "\n",
      "        [[ 5.40817488e-01, -6.18891450e-17],\n",
      "         [-6.18891450e-17,  6.05101909e-01]]]])\n"
     ]
    }
   ],
   "source": [
    "from qiskit_nature.second_q.transformers import ActiveSpaceTransformer\n",
    "\n",
    "as_transformer = ActiveSpaceTransformer(2,2) # syntax = AST(num_electrons,num_orbitals)\n",
    "as_problem = as_transformer.transform(problem)\n",
    "\n",
    "print(as_problem.num_particles)\n",
    "print(as_problem.num_spatial_orbitals)\n",
    "print(as_problem.hamiltonian.electronic_integrals.alpha)"
   ]
  },
  {
   "cell_type": "code",
   "execution_count": 20,
   "id": "fce2352a",
   "metadata": {},
   "outputs": [],
   "source": [
    "hamiltonian = as_problem.hamiltonian.second_q_op()"
   ]
  },
  {
   "cell_type": "code",
   "execution_count": 21,
   "id": "f8a1abe1",
   "metadata": {},
   "outputs": [
    {
     "name": "stdout",
     "output_type": "stream",
     "text": [
      "-1.06746480 * IIII\n",
      "+0.15518780 * IIIZ\n",
      "-0.03108626 * IIZI\n",
      "+0.12564427 * IIZZ\n",
      "+0.15518780 * IZII\n",
      "+0.14628896 * IZIZ\n",
      "+0.13520437 * IZZI\n",
      "+0.00956010 * XXXX\n",
      "+0.00956010 * XXYY\n",
      "+0.00956010 * YYXX\n",
      "+0.00956010 * YYYY\n",
      "-0.03108626 * ZIII\n",
      "+0.13520437 * ZIIZ\n",
      "+0.15127548 * ZIZI\n",
      "+0.12564427 * ZZII\n"
     ]
    }
   ],
   "source": [
    "#convert second quantized operator into pauli strings using any chemistry encoding of choice. we use jw.\n",
    "mapper = JordanWignerMapper()\n",
    "\n",
    "pauli_hamiltonian = mapper.map(hamiltonian)\n",
    "\n",
    "for pauli, coeff in sorted(pauli_hamiltonian.label_iter()):\n",
    "    print(f\"{coeff.real:+.8f} * {pauli}\")"
   ]
  },
  {
   "cell_type": "code",
   "execution_count": 22,
   "id": "9d7a0ab3",
   "metadata": {},
   "outputs": [
    {
     "data": {
      "text/plain": [
       "SparsePauliOp(['IIII', 'IIIZ', 'IIZI', 'IZII', 'ZIII', 'IIZZ', 'IZIZ', 'ZIIZ', 'YYYY', 'XXYY', 'YYXX', 'XXXX', 'IZZI', 'ZIZI', 'ZZII'],\n",
       "              coeffs=[-1.0674648 +0.j,  0.1551878 +0.j, -0.03108626+0.j,  0.1551878 +0.j,\n",
       " -0.03108626+0.j,  0.12564427+0.j,  0.14628896+0.j,  0.13520437+0.j,\n",
       "  0.0095601 +0.j,  0.0095601 +0.j,  0.0095601 +0.j,  0.0095601 +0.j,\n",
       "  0.13520437+0.j,  0.15127548+0.j,  0.12564427+0.j])"
      ]
     },
     "execution_count": 22,
     "metadata": {},
     "output_type": "execute_result"
    }
   ],
   "source": [
    "pauli_hamiltonian"
   ]
  },
  {
   "cell_type": "code",
   "execution_count": 23,
   "id": "ffb1b859",
   "metadata": {},
   "outputs": [
    {
     "name": "stdout",
     "output_type": "stream",
     "text": [
      "NUMPY eig (-1.6661032295567346+0j)\n",
      "VQE eig -1.664145168963813\n"
     ]
    }
   ],
   "source": [
    "eig = np.linalg.eigvals(pauli_hamiltonian)\n",
    "print('NUMPY eig',np.min(eig))\n",
    "\n",
    "estimator = Estimator()\n",
    "optimizer = SLSQP()\n",
    "ansatz = TwoLocal(rotation_blocks=['ry', 'rz'], entanglement_blocks='cz')\n",
    "\n",
    "vqe = VQE(estimator, ansatz, optimizer)\n",
    "result = vqe.compute_minimum_eigenvalue(operator=pauli_hamiltonian)\n",
    "print('VQE eig', result.eigenvalue)"
   ]
  },
  {
   "cell_type": "code",
   "execution_count": 24,
   "id": "c166c258",
   "metadata": {},
   "outputs": [
    {
     "data": {
      "text/plain": [
       "<qiskit.circuit.instructionset.InstructionSet at 0x757b27945e40>"
      ]
     },
     "execution_count": 24,
     "metadata": {},
     "output_type": "execute_result"
    }
   ],
   "source": [
    "n_qpe_qbits = 10\n",
    "\n",
    "U = HamiltonianGate(pauli_hamiltonian, 1, label='H')\n",
    "\n",
    "# Obtain a solution via QPE\n",
    "total_qbits = U.num_qubits + n_qpe_qbits\n",
    "measure_circ = QuantumCircuit(total_qbits, n_qpe_qbits)\n",
    "measure_circ.h([-1, -2])\n",
    "\n",
    "qpe = PhaseEstimation(n_qpe_qbits, U)\n",
    "Qpe=qpe.decompose().decompose().decompose().decompose().decompose().decompose().decompose()\n",
    "measure_circ = measure_circ.compose(Qpe)\n",
    "\n",
    "measure_circ.measure(range(n_qpe_qbits), range(n_qpe_qbits))\n",
    "#measure_circ.draw(\"mpl\")"
   ]
  },
  {
   "cell_type": "code",
   "execution_count": 25,
   "id": "a61fb314",
   "metadata": {},
   "outputs": [
    {
     "name": "stdout",
     "output_type": "stream",
     "text": [
      "{'0000011100': 1, '1100011100': 1, '0100011100': 2, '1110110100': 2, '0001110100': 2, '0011111000': 2}\n"
     ]
    }
   ],
   "source": [
    "from qiskit_aer import Aer\n",
    "backend=Aer.get_backend('aer_simulator')\n",
    "job=backend.run(measure_circ,shots=10)\n",
    "result=job.result()\n",
    "counts = job.result().get_counts()\n",
    "print(counts)"
   ]
  },
  {
   "cell_type": "code",
   "execution_count": 26,
   "id": "417f8268",
   "metadata": {},
   "outputs": [
    {
     "name": "stdout",
     "output_type": "stream",
     "text": [
      "MAX count: ('0100011100', 2)\n",
      "Theta value: 0.220703125\n",
      "QPE-approximated U-eigenvalue: (0.18303988795514106+0.9831054874312163j)\n",
      "QPE-approximated H-eigenvalue: -1.3867186322486196\n"
     ]
    }
   ],
   "source": [
    "max_count = max(counts.items(), key=lambda x: x[1])\n",
    "print(f'MAX count: {max_count}')\n",
    "\n",
    "theta = int(max_count[0][::-1], 2) / 2**n_qpe_qbits\n",
    "print(f'Theta value: {theta}')\n",
    "print(f'QPE-approximated U-eigenvalue: {np.exp(2*1j*np.pi * theta)}')\n",
    "print(f'QPE-approximated H-eigenvalue: {-2 * np.pi * theta}')"
   ]
  },
  {
   "cell_type": "code",
   "execution_count": 27,
   "id": "9c3220b8",
   "metadata": {},
   "outputs": [
    {
     "name": "stdout",
     "output_type": "stream",
     "text": [
      "Fermionic Operator\n",
      "number spin orbitals=16, number terms=3288\n",
      "  -4.74705673302898 * ( +_0 -_0 )\n",
      "+ 0.21503917441191728 * ( +_0 -_2 )\n",
      "+ -4.594261420162649 * ( +_1 -_1 )\n",
      "+ -0.24528347434057993 * ( +_1 -_7 )\n",
      "+ 0.21503917441191722 * ( +_2 -_0 )\n",
      "+ -4.305879583217249 * ( +_2 -_2 )\n",
      "+ -4.236260808426507 * ( +_3 -_3 )\n",
      "+ -4.236260808426504 * ( +_4 -_4 )\n",
      "...\n",
      "(5, 5)\n",
      "8\n",
      "(1, 1)\n",
      "2\n",
      "Polynomial Tensor\n",
      " \"+-\":\n",
      "array([[-7.20070885e-01,  1.83406817e-13],\n",
      "       [ 1.83295794e-13, -8.32720880e-01]])\n",
      " \"++--\":\n",
      "array([[[[ 4.97554008e-01,  6.89063607e-14],\n",
      "         [ 6.89063607e-14,  4.60130119e-01]],\n",
      "\n",
      "        [[ 6.89063607e-14,  2.04284014e-02],\n",
      "         [ 2.04284014e-02, -6.80566714e-14]]],\n",
      "\n",
      "\n",
      "       [[[ 6.89063607e-14,  2.04284014e-02],\n",
      "         [ 2.04284014e-02, -6.80566714e-14]],\n",
      "\n",
      "        [[ 4.60130119e-01, -6.80566714e-14],\n",
      "         [-6.80566714e-14,  5.06340300e-01]]]])\n"
     ]
    }
   ],
   "source": [
    "driver = PySCFDriver(\n",
    "    atom=\"N -1.05068773 0 0; N 1.05068773 0 0\",\n",
    "    basis=\"sto3g\",\n",
    "    charge=0,\n",
    "    spin=0,\n",
    "    unit=DistanceUnit.ANGSTROM,\n",
    ")\n",
    "\n",
    "\n",
    "# Run the driver to get the problem\n",
    "problem = driver.run()\n",
    "\n",
    "# Define the log output (here using stdout)\n",
    "flog = sys.stdout\n",
    "\n",
    "### Apply freezecore transformer\n",
    "transformer = FreezeCoreTransformer()\n",
    "problem = transformer.transform(problem)\n",
    "\n",
    "hamiltonian = problem.hamiltonian.second_q_op()\n",
    "#print(hamiltonian)\n",
    "print(\"\\n\".join(str(hamiltonian).splitlines()[:10] + [\"...\"]))\n",
    "\n",
    "print(problem.num_particles)\n",
    "print(problem.num_spatial_orbitals)\n",
    "#print(problem.active_orbitals)\n",
    "\n",
    "from qiskit_nature.second_q.transformers import ActiveSpaceTransformer\n",
    "\n",
    "as_transformer = ActiveSpaceTransformer(2,2) # syntax = AST(num_electrons,num_orbitals)\n",
    "as_problem = as_transformer.transform(problem)\n",
    "\n",
    "print(as_problem.num_particles)\n",
    "print(as_problem.num_spatial_orbitals)\n",
    "print(as_problem.hamiltonian.electronic_integrals.alpha)"
   ]
  },
  {
   "cell_type": "code",
   "execution_count": 28,
   "id": "85fec6c3",
   "metadata": {},
   "outputs": [
    {
     "name": "stdout",
     "output_type": "stream",
     "text": [
      "-0.85190227 * IIII\n",
      "+0.01068898 * IIIZ\n",
      "+0.06481741 * IIZI\n",
      "+0.10992543 * IIZZ\n",
      "+0.01068898 * IZII\n",
      "+0.12438850 * IZIZ\n",
      "+0.11503253 * IZZI\n",
      "+0.00510710 * XXXX\n",
      "+0.00510710 * XXYY\n",
      "+0.00510710 * YYXX\n",
      "+0.00510710 * YYYY\n",
      "+0.06481741 * ZIII\n",
      "+0.11503253 * ZIIZ\n",
      "+0.12658507 * ZIZI\n",
      "+0.10992543 * ZZII\n",
      "SparsePauliOp(['IIII', 'IIIZ', 'IIZI', 'IZII', 'ZIII', 'IIZZ', 'IZIZ', 'ZIIZ', 'YYYY', 'XXYY', 'YYXX', 'XXXX', 'IZZI', 'ZIZI', 'ZZII'],\n",
      "              coeffs=[-0.85190227+0.j,  0.01068898+0.j,  0.06481741+0.j,  0.01068898+0.j,\n",
      "  0.06481741+0.j,  0.10992543+0.j,  0.1243885 +0.j,  0.11503253+0.j,\n",
      "  0.0051071 +0.j,  0.0051071 +0.j,  0.0051071 +0.j,  0.0051071 +0.j,\n",
      "  0.11503253+0.j,  0.12658507+0.j,  0.10992543+0.j])\n"
     ]
    }
   ],
   "source": [
    "hamiltonian = as_problem.hamiltonian.second_q_op()\n",
    "\n",
    "#convert second quantized operator into pauli strings using any chemistry encoding of choice. we use jw.\n",
    "mapper = JordanWignerMapper()\n",
    "\n",
    "pauli_hamiltonian = mapper.map(hamiltonian)\n",
    "\n",
    "for pauli, coeff in sorted(pauli_hamiltonian.label_iter()):\n",
    "    print(f\"{coeff.real:+.8f} * {pauli}\")\n",
    "    \n",
    "print(pauli_hamiltonian)"
   ]
  },
  {
   "cell_type": "code",
   "execution_count": 29,
   "id": "ce473a89",
   "metadata": {},
   "outputs": [
    {
     "name": "stdout",
     "output_type": "stream",
     "text": [
      "NUMPY eig (-1.1610120527096142+0j)\n",
      "VQE eig -1.1609988060812324\n"
     ]
    }
   ],
   "source": [
    "eig = np.linalg.eigvals(pauli_hamiltonian)\n",
    "print('NUMPY eig',np.min(eig))\n",
    "\n",
    "estimator = Estimator()\n",
    "optimizer = SLSQP()\n",
    "ansatz = TwoLocal(rotation_blocks=['ry', 'rz'], entanglement_blocks='cz')\n",
    "\n",
    "vqe = VQE(estimator, ansatz, optimizer)\n",
    "result = vqe.compute_minimum_eigenvalue(operator=pauli_hamiltonian)\n",
    "print('VQE eig', result.eigenvalue)"
   ]
  },
  {
   "cell_type": "code",
   "execution_count": 30,
   "id": "c0170e0b",
   "metadata": {},
   "outputs": [
    {
     "data": {
      "text/plain": [
       "<qiskit.circuit.instructionset.InstructionSet at 0x757b1c1f19c0>"
      ]
     },
     "execution_count": 30,
     "metadata": {},
     "output_type": "execute_result"
    }
   ],
   "source": [
    "n_qpe_qbits = 10\n",
    "\n",
    "U = HamiltonianGate(pauli_hamiltonian, 1, label='H')\n",
    "\n",
    "# Obtain a solution via QPE\n",
    "total_qbits = U.num_qubits + n_qpe_qbits\n",
    "measure_circ = QuantumCircuit(total_qbits, n_qpe_qbits)\n",
    "measure_circ.h([-1, -2])\n",
    "\n",
    "qpe = PhaseEstimation(n_qpe_qbits, U)\n",
    "Qpe=qpe.decompose().decompose().decompose().decompose().decompose().decompose().decompose()\n",
    "measure_circ = measure_circ.compose(Qpe)\n",
    "\n",
    "measure_circ.measure(range(n_qpe_qbits), range(n_qpe_qbits))\n",
    "#measure_circ.draw(\"mpl\")"
   ]
  },
  {
   "cell_type": "code",
   "execution_count": 31,
   "id": "0a170280",
   "metadata": {},
   "outputs": [
    {
     "name": "stdout",
     "output_type": "stream",
     "text": [
      "{'1110111000': 1, '0000000000': 2, '0110110100': 2, '1010111000': 3, '0001000100': 2}\n"
     ]
    }
   ],
   "source": [
    "from qiskit_aer import Aer\n",
    "backend=Aer.get_backend('aer_simulator')\n",
    "job=backend.run(measure_circ,shots=10)\n",
    "result=job.result()\n",
    "counts = job.result().get_counts()\n",
    "print(counts)"
   ]
  },
  {
   "cell_type": "code",
   "execution_count": 32,
   "id": "d1d326f5",
   "metadata": {},
   "outputs": [
    {
     "name": "stdout",
     "output_type": "stream",
     "text": [
      "MAX count: ('1010111000', 3)\n",
      "Theta value: 0.1142578125\n",
      "QPE-approximated U-eigenvalue: (0.7531867990436125+0.6578066932970786j)\n",
      "QPE-approximated H-eigenvalue: -0.7179030087304801\n"
     ]
    }
   ],
   "source": [
    "max_count = max(counts.items(), key=lambda x: x[1])\n",
    "print(f'MAX count: {max_count}')\n",
    "\n",
    "theta = int(max_count[0][::-1], 2) / 2**n_qpe_qbits\n",
    "print(f'Theta value: {theta}')\n",
    "print(f'QPE-approximated U-eigenvalue: {np.exp(2*1j*np.pi * theta)}')\n",
    "print(f'QPE-approximated H-eigenvalue: {-2 * np.pi * theta}')"
   ]
  },
  {
   "cell_type": "code",
   "execution_count": null,
   "id": "0ae03b87",
   "metadata": {},
   "outputs": [],
   "source": []
  }
 ],
 "metadata": {
  "kernelspec": {
   "display_name": "cirq",
   "language": "python",
   "name": "cirq"
  },
  "language_info": {
   "codemirror_mode": {
    "name": "ipython",
    "version": 3
   },
   "file_extension": ".py",
   "mimetype": "text/x-python",
   "name": "python",
   "nbconvert_exporter": "python",
   "pygments_lexer": "ipython3",
   "version": "3.12.3"
  }
 },
 "nbformat": 4,
 "nbformat_minor": 5
}
