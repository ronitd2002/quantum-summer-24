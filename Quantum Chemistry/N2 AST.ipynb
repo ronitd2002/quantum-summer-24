{
 "cells": [
  {
   "cell_type": "code",
   "execution_count": 1,
   "id": "2eb4635d",
   "metadata": {},
   "outputs": [],
   "source": [
    "import numpy as np\n",
    "import os\n",
    "import sys\n",
    "import pyscf\n",
    "from qiskit import QuantumCircuit\n",
    "from qiskit_algorithms.minimum_eigensolvers import VQE\n",
    "from qiskit_algorithms.optimizers import SLSQP\n",
    "from qiskit.circuit.library import PhaseEstimation, TwoLocal\n",
    "from qiskit.circuit.library import HamiltonianGate\n",
    "from qiskit.primitives import Estimator\n",
    "from qiskit.quantum_info import SparsePauliOp\n",
    "from qiskit_aer import AerSimulator\n",
    "\n",
    "### import nature library\n",
    "from qiskit_nature.second_q.drivers import PySCFDriver\n",
    "from qiskit_nature.second_q.formats.molecule_info import MoleculeInfo\n",
    "from qiskit_nature.second_q.transformers import FreezeCoreTransformer\n",
    "from qiskit_nature.units import DistanceUnit\n",
    "from qiskit_nature.second_q.mappers import JordanWignerMapper, QubitMapper\n",
    "import time\n",
    "import inspect\n",
    "from pprint import pprint"
   ]
  },
  {
   "cell_type": "code",
   "execution_count": 4,
   "id": "f338b7ec",
   "metadata": {},
   "outputs": [
    {
     "name": "stdout",
     "output_type": "stream",
     "text": [
      "Fermionic Operator\n",
      "number spin orbitals=10, number terms=810\n",
      "  -3.837460975903059 * ( +_0 -_0 )\n",
      "+ 0.11848482354789946 * ( +_0 -_1 )\n",
      "+ 0.40821569216781695 * ( +_0 -_4 )\n",
      "+ 0.11848482354789913 * ( +_1 -_0 )\n",
      "+ -3.287635903955799 * ( +_1 -_1 )\n",
      "+ 0.427914803101878 * ( +_1 -_4 )\n",
      "+ -3.437442279072833 * ( +_2 -_2 )\n",
      "+ -3.437442279072833 * ( +_3 -_3 )\n",
      "...\n"
     ]
    }
   ],
   "source": [
    "# Define the molecule\n",
    "driver = PySCFDriver(\n",
    "    atom=\"N 0 0 0; H 0 0 1.0975\",\n",
    "    basis=\"sto3g\",\n",
    "    charge=0,\n",
    "    spin=0,\n",
    "    unit=DistanceUnit.ANGSTROM,\n",
    ")\n",
    "\n",
    "# Run the driver to get the problem\n",
    "problem = driver.run()\n",
    "\n",
    "# Define the log output (here using stdout)\n",
    "flog = sys.stdout\n",
    "\n",
    "### Apply freezecore transformer\n",
    "transformer = FreezeCoreTransformer()\n",
    "problem = transformer.transform(problem)\n",
    "\n",
    "hamiltonian = problem.hamiltonian.second_q_op()\n",
    "#print(hamiltonian)\n",
    "print(\"\\n\".join(str(hamiltonian).splitlines()[:10] + [\"...\"]))"
   ]
  },
  {
   "cell_type": "code",
   "execution_count": 5,
   "id": "6b856914",
   "metadata": {},
   "outputs": [
    {
     "name": "stdout",
     "output_type": "stream",
     "text": [
      "(3, 3)\n",
      "5\n"
     ]
    }
   ],
   "source": [
    "print(problem.num_particles)\n",
    "print(problem.num_spatial_orbitals)\n",
    "#print(problem.active_orbitals)"
   ]
  },
  {
   "cell_type": "code",
   "execution_count": null,
   "id": "df404019",
   "metadata": {},
   "outputs": [],
   "source": [
    "from qiskit_nature.second_q.transformers import ActiveSpaceTransformer\n",
    "\n",
    "as_transformer = ActiveSpaceTransformer(2,2) # syntax = AST(num_electrons,num_orbitals)\n",
    "as_problem = as_transformer.transform(problem)\n",
    "\n",
    "print(as_problem.num_particles)\n",
    "print(as_problem.num_spatial_orbitals)\n",
    "print(as_problem.hamiltonian.electronic_integrals.alpha)"
   ]
  },
  {
   "cell_type": "code",
   "execution_count": null,
   "id": "fce2352a",
   "metadata": {},
   "outputs": [],
   "source": [
    "hamiltonian = as_problem.hamiltonian.second_q_op()"
   ]
  },
  {
   "cell_type": "code",
   "execution_count": null,
   "id": "f8a1abe1",
   "metadata": {},
   "outputs": [],
   "source": [
    "#convert second quantized operator into pauli strings using any chemistry encoding of choice. we use jw.\n",
    "mapper = JordanWignerMapper()\n",
    "\n",
    "pauli_hamiltonian = mapper.map(hamiltonian)\n",
    "\n",
    "for pauli, coeff in sorted(pauli_hamiltonian.label_iter()):\n",
    "    print(f\"{coeff.real:+.8f} * {pauli}\")"
   ]
  },
  {
   "cell_type": "code",
   "execution_count": null,
   "id": "9d7a0ab3",
   "metadata": {},
   "outputs": [],
   "source": [
    "pauli_hamiltonian"
   ]
  },
  {
   "cell_type": "code",
   "execution_count": null,
   "id": "ffb1b859",
   "metadata": {},
   "outputs": [],
   "source": [
    "eig = np.linalg.eigvals(pauli_hamiltonian)\n",
    "print('NUMPY eig',np.min(eig))\n",
    "\n",
    "estimator = Estimator()\n",
    "optimizer = SLSQP()\n",
    "ansatz = TwoLocal(rotation_blocks=['ry', 'rz'], entanglement_blocks='cz')\n",
    "\n",
    "vqe = VQE(estimator, ansatz, optimizer)\n",
    "result = vqe.compute_minimum_eigenvalue(operator=pauli_hamiltonian)\n",
    "print('VQE eig', result.eigenvalue)"
   ]
  },
  {
   "cell_type": "code",
   "execution_count": null,
   "id": "c166c258",
   "metadata": {},
   "outputs": [],
   "source": [
    "n_qpe_qbits = 10\n",
    "\n",
    "U = HamiltonianGate(pauli_hamiltonian, 1, label='H')\n",
    "\n",
    "# Obtain a solution via QPE\n",
    "total_qbits = U.num_qubits + n_qpe_qbits\n",
    "measure_circ = QuantumCircuit(total_qbits, n_qpe_qbits)\n",
    "measure_circ.h([-1, -2])\n",
    "\n",
    "qpe = PhaseEstimation(n_qpe_qbits, U)\n",
    "Qpe=qpe.decompose().decompose().decompose().decompose().decompose().decompose().decompose()\n",
    "measure_circ = measure_circ.compose(Qpe)\n",
    "\n",
    "measure_circ.measure(range(n_qpe_qbits), range(n_qpe_qbits))\n",
    "#measure_circ.draw(\"mpl\")"
   ]
  },
  {
   "cell_type": "code",
   "execution_count": null,
   "id": "a61fb314",
   "metadata": {},
   "outputs": [],
   "source": [
    "from qiskit_aer import Aer\n",
    "backend=Aer.get_backend('aer_simulator')\n",
    "job=backend.run(measure_circ,shots=10)\n",
    "result=job.result()\n",
    "counts = job.result().get_counts()\n",
    "print(counts)"
   ]
  },
  {
   "cell_type": "code",
   "execution_count": null,
   "id": "417f8268",
   "metadata": {},
   "outputs": [],
   "source": [
    "max_count = max(counts.items(), key=lambda x: x[1])\n",
    "print(f'MAX count: {max_count}')\n",
    "\n",
    "theta = int(max_count[0][::-1], 2) / 2**n_qpe_qbits\n",
    "print(f'Theta value: {theta}')\n",
    "print(f'QPE-approximated U-eigenvalue: {np.exp(2*1j*np.pi * theta)}')\n",
    "print(f'QPE-approximated H-eigenvalue: {-2 * np.pi * theta}')"
   ]
  },
  {
   "cell_type": "code",
   "execution_count": null,
   "id": "9c3220b8",
   "metadata": {},
   "outputs": [],
   "source": []
  }
 ],
 "metadata": {
  "kernelspec": {
   "display_name": "cirq",
   "language": "python",
   "name": "cirq"
  },
  "language_info": {
   "codemirror_mode": {
    "name": "ipython",
    "version": 3
   },
   "file_extension": ".py",
   "mimetype": "text/x-python",
   "name": "python",
   "nbconvert_exporter": "python",
   "pygments_lexer": "ipython3",
   "version": "3.12.3"
  }
 },
 "nbformat": 4,
 "nbformat_minor": 5
}
