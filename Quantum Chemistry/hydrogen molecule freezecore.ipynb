{
 "cells": [
  {
   "cell_type": "code",
   "execution_count": 1,
   "id": "2eb4635d",
   "metadata": {},
   "outputs": [],
   "source": [
    "import numpy as np\n",
    "from qiskit import QuantumCircuit\n",
    "from qiskit_algorithms.minimum_eigensolvers import VQE\n",
    "from qiskit_algorithms.optimizers import SLSQP\n",
    "from qiskit.circuit.library import PhaseEstimation, TwoLocal\n",
    "from qiskit.circuit.library import HamiltonianGate\n",
    "from qiskit.primitives import Estimator\n",
    "from qiskit.quantum_info import SparsePauliOp\n",
    "from qiskit_aer import AerSimulator\n",
    "\n",
    "### import nature library\n",
    "from qiskit_nature.second_q.drivers import PySCFDriver\n",
    "from qiskit_nature.second_q.formats.molecule_info import MoleculeInfo\n",
    "from qiskit_nature.second_q.transformers import FreezeCoreTransformer\n",
    "\n",
    "## custom library imports\n",
    "import os\n",
    "import sys\n",
    "import pyscf\n",
    "from qiskit_nature.units import DistanceUnit\n",
    "from qiskit_nature.second_q.mappers import JordanWignerMapper\n",
    "import time\n",
    "import inspect\n",
    "from pprint import pprint\n",
    "import numpy as np"
   ]
  },
  {
   "cell_type": "code",
   "execution_count": 13,
   "id": "f338b7ec",
   "metadata": {},
   "outputs": [
    {
     "name": "stdout",
     "output_type": "stream",
     "text": [
      "Fermionic Operator\n",
      "number spin orbitals=4, number terms=36\n",
      "  -1.2563390730032498 * ( +_0 -_0 )\n",
      "+ -0.47189600728114145 * ( +_1 -_1 )\n",
      "+ -1.2563390730032498 * ( +_2 -_2 )\n",
      "+ -0.47189600728114145 * ( +_3 -_3 )\n",
      "+ 0.33785507740175813 * ( +_0 +_0 -_0 -_0 )\n",
      "+ 0.33229086512764805 * ( +_0 +_1 -_1 -_0 )\n",
      "+ 0.33785507740175813 * ( +_0 +_2 -_2 -_0 )\n",
      "+ 0.33229086512764805 * ( +_0 +_3 -_3 -_0 )\n",
      "+ 0.09046559989211567 * ( +_0 +_0 -_1 -_1 )\n",
      "+ 0.09046559989211567 * ( +_0 +_1 -_0 -_1 )\n",
      "+ 0.09046559989211567 * ( +_0 +_2 -_3 -_1 )\n",
      "+ 0.09046559989211567 * ( +_0 +_3 -_2 -_1 )\n",
      "+ 0.09046559989211567 * ( +_1 +_0 -_1 -_0 )\n",
      "+ 0.09046559989211567 * ( +_1 +_1 -_0 -_0 )\n",
      "+ 0.09046559989211567 * ( +_1 +_2 -_3 -_0 )\n",
      "+ 0.09046559989211567 * ( +_1 +_3 -_2 -_0 )\n",
      "+ 0.33229086512764805 * ( +_1 +_0 -_0 -_1 )\n",
      "+ 0.3492868613660088 * ( +_1 +_1 -_1 -_1 )\n",
      "+ 0.33229086512764805 * ( +_1 +_2 -_2 -_1 )\n",
      "+ 0.3492868613660088 * ( +_1 +_3 -_3 -_1 )\n",
      "+ 0.33785507740175813 * ( +_2 +_0 -_0 -_2 )\n",
      "+ 0.33229086512764805 * ( +_2 +_1 -_1 -_2 )\n",
      "+ 0.33785507740175813 * ( +_2 +_2 -_2 -_2 )\n",
      "+ 0.33229086512764805 * ( +_2 +_3 -_3 -_2 )\n",
      "+ 0.09046559989211567 * ( +_2 +_0 -_1 -_3 )\n",
      "+ 0.09046559989211567 * ( +_2 +_1 -_0 -_3 )\n",
      "+ 0.09046559989211567 * ( +_2 +_2 -_3 -_3 )\n",
      "+ 0.09046559989211567 * ( +_2 +_3 -_2 -_3 )\n",
      "+ 0.09046559989211567 * ( +_3 +_0 -_1 -_2 )\n",
      "+ 0.09046559989211567 * ( +_3 +_1 -_0 -_2 )\n",
      "+ 0.09046559989211567 * ( +_3 +_2 -_3 -_2 )\n",
      "+ 0.09046559989211567 * ( +_3 +_3 -_2 -_2 )\n",
      "+ 0.33229086512764805 * ( +_3 +_0 -_0 -_3 )\n",
      "+ 0.3492868613660088 * ( +_3 +_1 -_1 -_3 )\n",
      "+ 0.33229086512764805 * ( +_3 +_2 -_2 -_3 )\n",
      "+ 0.3492868613660088 * ( +_3 +_3 -_3 -_3 )\n"
     ]
    }
   ],
   "source": [
    "\"\"\"H = SparsePauliOp.from_list([('II', -1), ('IZ', 0.3), ('XI', -0.3), ('ZY', -0.01), ('YX', 0.1)])\n",
    "\n",
    "\"\"\"\n",
    "# Define the molecule\n",
    "driver = PySCFDriver(\n",
    "    atom=\"H 0 0 0; H 0 0 0.735\",\n",
    "    basis=\"sto3g\",\n",
    "    charge=0,\n",
    "    spin=0,\n",
    "    unit=DistanceUnit.ANGSTROM,\n",
    ")\n",
    "\n",
    "# Run the driver to get the problem\n",
    "problem = driver.run()\n",
    "\n",
    "# Define the log output (here using stdout)\n",
    "flog = sys.stdout\n",
    "\n",
    "### Apply freezecore transformer\n",
    "transformer = FreezeCoreTransformer()\n",
    "problem = transformer.transform(problem)\n",
    "\n",
    "#hamiltonian = problem.hamiltonian.second_q_op()\n",
    "hamiltonian_op, aux_ops = problem.second_q_ops()\n",
    "#Hmat = H.to_matrix()\n",
    "#print(\"\\n\".join(str(hamiltonian).splitlines()))#[:10] + [\"...\"]))\n",
    "#print(\"\\n\".join(str(hamiltonian_op).splitlines()))#[:10] + [\"...\"]))\n",
    "print(hamiltonian_op)"
   ]
  },
  {
   "cell_type": "code",
   "execution_count": 3,
   "id": "ffb1b859",
   "metadata": {},
   "outputs": [
    {
     "ename": "LinAlgError",
     "evalue": "1-dimensional array given. Array must be at least two-dimensional",
     "output_type": "error",
     "traceback": [
      "\u001b[0;31m---------------------------------------------------------------------------\u001b[0m",
      "\u001b[0;31mLinAlgError\u001b[0m                               Traceback (most recent call last)",
      "Cell \u001b[0;32mIn[3], line 1\u001b[0m\n\u001b[0;32m----> 1\u001b[0m eig \u001b[38;5;241m=\u001b[39m \u001b[43mnp\u001b[49m\u001b[38;5;241;43m.\u001b[39;49m\u001b[43mlinalg\u001b[49m\u001b[38;5;241;43m.\u001b[39;49m\u001b[43meigvals\u001b[49m\u001b[43m(\u001b[49m\u001b[43mhamiltonian\u001b[49m\u001b[43m)\u001b[49m\n\u001b[1;32m      2\u001b[0m \u001b[38;5;28mprint\u001b[39m(\u001b[38;5;124m'\u001b[39m\u001b[38;5;124mNUMPY eig\u001b[39m\u001b[38;5;124m'\u001b[39m,eig)\n\u001b[1;32m      4\u001b[0m estimator \u001b[38;5;241m=\u001b[39m Estimator()\n",
      "File \u001b[0;32m/usr/lib/python3/dist-packages/numpy/linalg/linalg.py:1066\u001b[0m, in \u001b[0;36meigvals\u001b[0;34m(a)\u001b[0m\n\u001b[1;32m    996\u001b[0m \u001b[38;5;250m\u001b[39m\u001b[38;5;124;03m\"\"\"\u001b[39;00m\n\u001b[1;32m    997\u001b[0m \u001b[38;5;124;03mCompute the eigenvalues of a general matrix.\u001b[39;00m\n\u001b[1;32m    998\u001b[0m \n\u001b[0;32m   (...)\u001b[0m\n\u001b[1;32m   1063\u001b[0m \n\u001b[1;32m   1064\u001b[0m \u001b[38;5;124;03m\"\"\"\u001b[39;00m\n\u001b[1;32m   1065\u001b[0m a, wrap \u001b[38;5;241m=\u001b[39m _makearray(a)\n\u001b[0;32m-> 1066\u001b[0m \u001b[43m_assert_stacked_2d\u001b[49m\u001b[43m(\u001b[49m\u001b[43ma\u001b[49m\u001b[43m)\u001b[49m\n\u001b[1;32m   1067\u001b[0m _assert_stacked_square(a)\n\u001b[1;32m   1068\u001b[0m _assert_finite(a)\n",
      "File \u001b[0;32m/usr/lib/python3/dist-packages/numpy/linalg/linalg.py:206\u001b[0m, in \u001b[0;36m_assert_stacked_2d\u001b[0;34m(*arrays)\u001b[0m\n\u001b[1;32m    204\u001b[0m \u001b[38;5;28;01mfor\u001b[39;00m a \u001b[38;5;129;01min\u001b[39;00m arrays:\n\u001b[1;32m    205\u001b[0m     \u001b[38;5;28;01mif\u001b[39;00m a\u001b[38;5;241m.\u001b[39mndim \u001b[38;5;241m<\u001b[39m \u001b[38;5;241m2\u001b[39m:\n\u001b[0;32m--> 206\u001b[0m         \u001b[38;5;28;01mraise\u001b[39;00m LinAlgError(\u001b[38;5;124m'\u001b[39m\u001b[38;5;132;01m%d\u001b[39;00m\u001b[38;5;124m-dimensional array given. Array must be \u001b[39m\u001b[38;5;124m'\u001b[39m\n\u001b[1;32m    207\u001b[0m                 \u001b[38;5;124m'\u001b[39m\u001b[38;5;124mat least two-dimensional\u001b[39m\u001b[38;5;124m'\u001b[39m \u001b[38;5;241m%\u001b[39m a\u001b[38;5;241m.\u001b[39mndim)\n",
      "\u001b[0;31mLinAlgError\u001b[0m: 1-dimensional array given. Array must be at least two-dimensional"
     ]
    }
   ],
   "source": [
    "eig = np.linalg.eigvals(hamiltonian)\n",
    "print('NUMPY eig',eig)\n",
    "\n",
    "estimator = Estimator()\n",
    "optimizer = SLSQP()\n",
    "ansatz = TwoLocal(rotation_blocks=['ry', 'rz'], entanglement_blocks='cz')\n",
    "\n",
    "vqe = VQE(estimator, ansatz, optimizer)\n",
    "result = vqe.compute_minimum_eigenvalue(operator=hamiltonian)\n",
    "print('VQE eig', result.eigenvalue)"
   ]
  },
  {
   "cell_type": "code",
   "execution_count": null,
   "id": "c166c258",
   "metadata": {},
   "outputs": [],
   "source": [
    "\n",
    "n_qpe_qbits = 10\n",
    "\n",
    "U = HamiltonianGate(Hmat, 1, label='H')\n",
    "\n",
    "# Obtain a solution via QPE\n",
    "total_qbits = U.num_qubits + n_qpe_qbits\n",
    "measure_circ = QuantumCircuit(total_qbits, n_qpe_qbits)\n",
    "measure_circ.h([-1, -2])\n",
    "\n",
    "qpe = PhaseEstimation(n_qpe_qbits, U)\n",
    "Qpe=qpe.decompose().decompose().decompose().decompose().decompose().decompose().decompose()\n",
    "measure_circ = measure_circ.compose(Qpe)\n",
    "\n",
    "measure_circ.measure(range(n_qpe_qbits), range(n_qpe_qbits))\n",
    "#measure_circ.draw(\"mpl\")\n"
   ]
  },
  {
   "cell_type": "code",
   "execution_count": null,
   "id": "a61fb314",
   "metadata": {},
   "outputs": [],
   "source": [
    "from qiskit_aer import Aer\n",
    "backend=Aer.get_backend('aer_simulator')\n",
    "job=backend.run(measure_circ,shots=10)\n",
    "result=job.result()\n",
    "counts = job.result().get_counts()\n",
    "print(counts)"
   ]
  },
  {
   "cell_type": "code",
   "execution_count": null,
   "id": "417f8268",
   "metadata": {},
   "outputs": [],
   "source": [
    "max_count = max(counts.items(), key=lambda x: x[1])\n",
    "print(f'MAX count: {max_count}')\n",
    "\n",
    "theta = int(max_count[0][::-1], 2) / 2**n_qpe_qbits\n",
    "print(f'Theta value: {theta}')\n",
    "print(f'QPE-approximated U-eigenvalue: {np.exp(2*1j*np.pi * theta)}')\n",
    "print(f'QPE-approximated H-eigenvalue: {-2 * np.pi * theta}')"
   ]
  },
  {
   "cell_type": "code",
   "execution_count": null,
   "id": "9c3220b8",
   "metadata": {},
   "outputs": [],
   "source": []
  }
 ],
 "metadata": {
  "kernelspec": {
   "display_name": "cirq",
   "language": "python",
   "name": "cirq"
  },
  "language_info": {
   "codemirror_mode": {
    "name": "ipython",
    "version": 3
   },
   "file_extension": ".py",
   "mimetype": "text/x-python",
   "name": "python",
   "nbconvert_exporter": "python",
   "pygments_lexer": "ipython3",
   "version": "3.12.3"
  }
 },
 "nbformat": 4,
 "nbformat_minor": 5
}
